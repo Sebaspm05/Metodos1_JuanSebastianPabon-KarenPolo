{
 "cells": [
  {
   "cell_type": "markdown",
   "id": "e248dd8d",
   "metadata": {},
   "source": [
    "# **Parcial #3 Metodos Computacionales**\n",
    "\n",
    "\n",
    "---\n",
    "\n",
    "Realizado por: Juan Sebastian Pabon Martínez y Karen Polo\n"
   ]
  },
  {
   "cell_type": "code",
   "execution_count": 2,
   "id": "cf8b07d1",
   "metadata": {},
   "outputs": [],
   "source": [
    "import numpy as np\n",
    "import matplotlib.pyplot as plt\n",
    "import sympy as sym\n",
    "import wget\n",
    "import corner"
   ]
  },
  {
   "cell_type": "code",
   "execution_count": 3,
   "id": "a30140e1",
   "metadata": {},
   "outputs": [
    {
     "name": "stdout",
     "output_type": "stream",
     "text": [
      "[0.36488221 1.21893659]\n"
     ]
    }
   ],
   "source": [
    "#Codigo Newthon Rapshon Generalizado \n",
    "def f(p):\n",
    "    f = np.array([5*p[0]**2 + 3*p[0]*p[1] - 2, p[0]**2 + 7*p[1] + 3*p[0]*p[1] - 10])\n",
    "    return f\n",
    "\n",
    "def jacobian(f, x, h=1e-6):\n",
    "    n = len(x)\n",
    "    J = np.zeros((n, n))\n",
    "    fx = f(x)\n",
    "\n",
    "    for i in range(n):\n",
    "        x1 = np.copy(x)\n",
    "        x2 = np.copy(x)\n",
    "        x1[i] += h\n",
    "        x2[i] -= h\n",
    "        J[:, i] = (f(x1) - f(x2)) / (2*h)\n",
    "    return J\n",
    "\n",
    "def newton_raphson_Generalizado(f, J,x0, tol=1e-6, maxiter=100):\n",
    "    x = x0\n",
    "    for i in range(maxiter):\n",
    "        fx = f(x)\n",
    "        Ji= J(f, x)\n",
    "        dx = np.linalg.solve(Ji, -fx)\n",
    "        x = x + dx\n",
    "        if np.linalg.norm(dx) < tol:\n",
    "            return x\n",
    "\n",
    "p = np.array([1, 1])\n",
    "print(newton_raphson_Generalizado(f,jacobian,p))"
   ]
  },
  {
   "cell_type": "code",
   "execution_count": 11,
   "id": "8e9582f1",
   "metadata": {},
   "outputs": [
    {
     "name": "stdout",
     "output_type": "stream",
     "text": [
      "2i + 4\n"
     ]
    }
   ],
   "source": [
    "#Crear numeros complejos en sympy \n",
    "\n",
    "i = sym.symbols(\"i\")\n",
    "\n",
    "a = 1+5j\n",
    "b= 2+6j\n",
    "\n",
    "print(u)\n"
   ]
  }
 ],
 "metadata": {
  "kernelspec": {
   "display_name": "Python 3 (ipykernel)",
   "language": "python",
   "name": "python3"
  },
  "language_info": {
   "codemirror_mode": {
    "name": "ipython",
    "version": 3
   },
   "file_extension": ".py",
   "mimetype": "text/x-python",
   "name": "python",
   "nbconvert_exporter": "python",
   "pygments_lexer": "ipython3",
   "version": "3.9.7"
  }
 },
 "nbformat": 4,
 "nbformat_minor": 5
}
