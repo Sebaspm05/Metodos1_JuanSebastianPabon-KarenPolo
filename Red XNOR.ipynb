{
 "cells": [
  {
   "cell_type": "code",
   "execution_count": 1,
   "id": "6fe7a3fc",
   "metadata": {},
   "outputs": [],
   "source": [
    "%matplotlib notebook\n",
    "import numpy as np\n",
    "import matplotlib.pyplot as plt\n",
    "from matplotlib import cm\n",
    "from mpl_toolkits.mplot3d import axes3d\n",
    "import random"
   ]
  },
  {
   "cell_type": "code",
   "execution_count": 2,
   "id": "4e719db2",
   "metadata": {},
   "outputs": [],
   "source": [
    "sigm = lambda x: 1/(1+np.exp(-x))\n",
    "tan = lambda x: np.tanh(x)"
   ]
  },
  {
   "cell_type": "code",
   "execution_count": 3,
   "id": "cf8ac9b3",
   "metadata": {},
   "outputs": [],
   "source": [
    "def Brain(Layers,x):\n",
    "    \n",
    "    for i in range(len(Layers)):\n",
    "        \n",
    "        if i==0:\n",
    "            output = Layers[i].Activation(x)\n",
    "        else:\n",
    "            output = Layers[i].Activation(output)\n",
    "        \n",
    "    return output"
   ]
  },
  {
   "cell_type": "code",
   "execution_count": 4,
   "id": "ed75420b",
   "metadata": {},
   "outputs": [
    {
     "name": "stdout",
     "output_type": "stream",
     "text": [
      "Entrada: [0 0] Predicción: [0.99718938] Predicción redondeada: 1\n",
      "Entrada: [0 1] Predicción: [0.04918321] Predicción redondeada: 0\n",
      "Entrada: [1 0] Predicción: [0.07437546] Predicción redondeada: 0\n",
      "Entrada: [1 1] Predicción: [0.9203019] Predicción redondeada: 1\n"
     ]
    }
   ],
   "source": [
    "class Layer:\n",
    "    \n",
    "    def __init__(self, NC, NN, ActFunc, rate=0.05):\n",
    "        self.NC = NC\n",
    "        self.NN = NN\n",
    "        self.ActFunc = ActFunc\n",
    "        self.rate = rate\n",
    "        self.W = np.random.uniform(-10., 10., size=(self.NC, self.NN))\n",
    "        self.b = np.random.uniform(-10., 10., size=(1, self.NN))\n",
    "        \n",
    "    def Activation(self, x):\n",
    "        z = np.dot(x, self.W) + self.b\n",
    "        return self.ActFunc(z)[0]\n",
    "    \n",
    "    def Mutate(self):\n",
    "        self.W += np.random.normal(loc=0., scale=self.rate, size=(self.NC, self.NN))\n",
    "        self.b += np.random.normal(loc=0., scale=self.rate, size=(1, self.NN))\n",
    "\n",
    "def train_network():\n",
    "    X = np.array([[0, 0], [0, 1], [1, 0], [1, 1]])\n",
    "    y = np.array([1, 0, 0, 1])\n",
    "    \n",
    "    l0 = Layer(2, 2, tan)\n",
    "    l1 = Layer(2, 1, sigm)\n",
    "    Layers = [l0, l1]\n",
    "    \n",
    "    epochs = 2000\n",
    "    learning_rate = 0.159\n",
    "    \n",
    "    for epoch in range(epochs):\n",
    "        for i in range(len(X)):\n",
    "            inputs = X[i]\n",
    "            target = y[i]\n",
    "            \n",
    "            output = Brain(Layers, inputs)\n",
    "            \n",
    "            error = target - output\n",
    "            delta = error * output * (1 - output)\n",
    "            \n",
    "            l1.W += learning_rate * np.dot(l0.Activation(inputs).reshape(1, -1).T, delta.reshape(1, -1))\n",
    "            l1.b += learning_rate * delta\n",
    "            \n",
    "    return Layers\n",
    "\n",
    "Layers = train_network()\n",
    "\n",
    "inputs = np.array([[0, 0], [0, 1], [1, 0], [1, 1]])\n",
    "predictions = [Brain(Layers, input_) for input_ in inputs]\n",
    "\n",
    "for i in range(len(inputs)):\n",
    "    print(\"Entrada:\", inputs[i], \"Predicción:\", predictions[i], \"Predicción redondeada:\", round(predictions[i][0]))"
   ]
  }
 ],
 "metadata": {
  "kernelspec": {
   "display_name": "Python 3 (ipykernel)",
   "language": "python",
   "name": "python3"
  },
  "language_info": {
   "codemirror_mode": {
    "name": "ipython",
    "version": 3
   },
   "file_extension": ".py",
   "mimetype": "text/x-python",
   "name": "python",
   "nbconvert_exporter": "python",
   "pygments_lexer": "ipython3",
   "version": "3.9.12"
  }
 },
 "nbformat": 4,
 "nbformat_minor": 5
}
