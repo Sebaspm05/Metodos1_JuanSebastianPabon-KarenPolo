{
 "cells": [
  {
   "cell_type": "code",
   "execution_count": 1,
   "id": "dc9f6341",
   "metadata": {},
   "outputs": [],
   "source": [
    "import numpy as np\n",
    "import tensorflow as tf\n",
    "import random\n",
    "import matplotlib.pyplot as plt"
   ]
  },
  {
   "cell_type": "code",
   "execution_count": 2,
   "id": "ab76625c",
   "metadata": {},
   "outputs": [],
   "source": [
    "np.random.seed(42)\n",
    "n = 1500\n",
    "Input = np.zeros((n,2))\n",
    "Output = np.zeros(n)\n",
    "posibles = [(0,0,1), (0,1,0), (1,0,0), (1,1,1)]\n",
    "\n",
    "for i in range(n):\n",
    "    pareja = random.choice(posibles)\n",
    "    Input[i,:] = pareja[0:2]\n",
    "    Output[i] = pareja[2]"
   ]
  },
  {
   "cell_type": "code",
   "execution_count": 3,
   "id": "93170a36",
   "metadata": {},
   "outputs": [
    {
     "data": {
      "text/plain": [
       "array([[1., 0.],\n",
       "       [1., 1.],\n",
       "       [0., 1.],\n",
       "       ...,\n",
       "       [0., 0.],\n",
       "       [1., 0.],\n",
       "       [1., 1.]])"
      ]
     },
     "execution_count": 3,
     "metadata": {},
     "output_type": "execute_result"
    }
   ],
   "source": [
    "Input"
   ]
  },
  {
   "cell_type": "code",
   "execution_count": 4,
   "id": "fc6995f9",
   "metadata": {},
   "outputs": [
    {
     "data": {
      "text/plain": [
       "0.5266666666666666"
      ]
     },
     "execution_count": 4,
     "metadata": {},
     "output_type": "execute_result"
    }
   ],
   "source": [
    "np.sum(Input[:,0])/n"
   ]
  },
  {
   "cell_type": "code",
   "execution_count": 5,
   "id": "13197179",
   "metadata": {},
   "outputs": [
    {
     "data": {
      "text/plain": [
       "0.5326666666666666"
      ]
     },
     "execution_count": 5,
     "metadata": {},
     "output_type": "execute_result"
    }
   ],
   "source": [
    "np.sum(Input[:,1])/n"
   ]
  },
  {
   "cell_type": "code",
   "execution_count": 6,
   "id": "4cffc4b8",
   "metadata": {},
   "outputs": [
    {
     "name": "stdout",
     "output_type": "stream",
     "text": [
      "1/1 [==============================] - 0s 143ms/step\n",
      "Entrada:  [0 0]  Predicción:  [0.98365253]  Predicción redondeada:  1\n",
      "Entrada:  [0 1]  Predicción:  [0.00408681]  Predicción redondeada:  0\n",
      "Entrada:  [1 0]  Predicción:  [0.00417846]  Predicción redondeada:  0\n",
      "Entrada:  [1 1]  Predicción:  [0.9836493]  Predicción redondeada:  1\n"
     ]
    }
   ],
   "source": [
    "model = tf.keras.models.Sequential([\n",
    "    tf.keras.layers.Dense(2, activation='relu', input_shape=(2,), kernel_initializer='glorot_uniform'),\n",
    "    tf.keras.layers.Dense(1, activation='sigmoid', kernel_initializer='he_uniform')\n",
    "])\n",
    "\n",
    "model.compile(optimizer=tf.keras.optimizers.SGD(learning_rate=0.01), loss='binary_crossentropy', metrics=['accuracy'])\n",
    "\n",
    "historial = model.fit(Input, Output, epochs=400, batch_size=32, verbose=False)\n",
    "\n",
    "entrada_prueba = np.array([[0, 0], [0, 1], [1, 0], [1, 1]])\n",
    "prediccion = model.predict(entrada_prueba)\n",
    "\n",
    "for i in range(len(entrada_prueba)):\n",
    "    print(\"Entrada: \", entrada_prueba[i], \" Predicción: \" , prediccion[i], \" Predicción redondeada: \", round(prediccion[i][0]))"
   ]
  },
  {
   "cell_type": "code",
   "execution_count": 7,
   "id": "cc0437bd",
   "metadata": {},
   "outputs": [
    {
     "data": {
      "text/plain": [
       "[<matplotlib.lines.Line2D at 0x250290f6eb0>]"
      ]
     },
     "execution_count": 7,
     "metadata": {},
     "output_type": "execute_result"
    },
    {
     "data": {
      "image/png": "[encoded data removed]",
      "text/plain": [
       "<Figure size 432x288 with 1 Axes>"
      ]
     },
     "metadata": {
      "needs_background": "light"
     },
     "output_type": "display_data"
    }
   ],
   "source": [
    "plt.xlabel(\"Iteración\")\n",
    "plt.ylabel(\"Pérdida\")\n",
    "plt.plot(historial.history[\"loss\"])"
   ]
  },
  {
   "cell_type": "code",
   "execution_count": 8,
   "id": "ea5cc8e7",
   "metadata": {},
   "outputs": [
    {
     "name": "stdout",
     "output_type": "stream",
     "text": [
      "Pérdida final:  0.010469256900250912\n"
     ]
    }
   ],
   "source": [
    "print(\"Pérdida final: \", historial.history[\"loss\"][-1])"
   ]
  }
 ],
 "metadata": {
  "kernelspec": {
   "display_name": "Python 3 (ipykernel)",
   "language": "python",
   "name": "python3"
  },
  "language_info": {
   "codemirror_mode": {
    "name": "ipython",
    "version": 3
   },
   "file_extension": ".py",
   "mimetype": "text/x-python",
   "name": "python",
   "nbconvert_exporter": "python",
   "pygments_lexer": "ipython3",
   "version": "3.9.12"
  }
 },
 "nbformat": 4,
 "nbformat_minor": 5
}
