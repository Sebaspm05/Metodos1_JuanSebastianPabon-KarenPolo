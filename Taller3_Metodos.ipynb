{
  "nbformat": 4,
  "nbformat_minor": 0,
  "metadata": {
    "colab": {
      "provenance": []
    },
    "kernelspec": {
      "name": "python3",
      "display_name": "Python 3"
    },
    "language_info": {
      "name": "python"
    }
  },
  "cells": [
    {
      "cell_type": "markdown",
      "source": [
        "# **Taller #3 Metodos Computacionales**\n",
        "\n",
        "\n",
        "---\n",
        "\n",
        "Realizado por: Juan Sebastian Pabon Martínez y Karen Polo\n"
      ],
      "metadata": {
        "id": "SlAp6-lBK-jy"
      }
    },
    {
      "cell_type": "code",
      "execution_count": null,
      "metadata": {
        "id": "DavMChNfCkLS"
      },
      "outputs": [],
      "source": [
        "import numpy as np\n",
        "import matplotlib.pyplot as plt\n",
        "from sympy import Matrix\n",
        "import sympy as sym\n",
        "import urllib.request\n",
        "import pandas as pd\n",
        "from numpy.ma.core import sqrt"
      ]
    },
    {
      "cell_type": "code",
      "source": [
        "#Ejercicios: Álgebra lineal\n",
        "#Problemas: 4,5\n",
        "\n",
        "#Ejercicios: Mínimos Cuadrados\n",
        "#Problemas: 6"
      ],
      "metadata": {
        "id": "vQSmQlFnxbCu"
      },
      "execution_count": null,
      "outputs": []
    },
    {
      "cell_type": "markdown",
      "source": [
        "#Algebra lineal "
      ],
      "metadata": {
        "id": "2qsEk5caxiGZ"
      }
    },
    {
      "cell_type": "code",
      "source": [
        "#3\n",
        "A=np.array([[1,0,0],[5,1,0],[-2,3,1]])\n",
        "B=np.array([[4,-2,1],[0,3,7],[0,0,2]])\n",
        "\n",
        "\n",
        "def multi_matricial (A,B):\n",
        "  matrix= A.copy()\n",
        "  for i in range(len(A)):\n",
        "    linea = A[i,:]\n",
        "    for j in range(len(B)):\n",
        "      columna= B[:,j]\n",
        "      value= np.dot(columna,linea)\n",
        "      matrix[i][j]=value\n",
        "\n",
        "  return matrix\n",
        "\n",
        "M= multi_matricial(A,B)\n",
        "print(\"El resultado de la multiplicación entre las dos matrices es:\" )\n",
        "print(M)\n",
        "      "
      ],
      "metadata": {
        "colab": {
          "base_uri": "https://localhost:8080/"
        },
        "id": "KXNUD8MuxlBH",
        "outputId": "5f9cf7cf-3eba-480b-bc3c-0529d15365f5"
      },
      "execution_count": null,
      "outputs": [
        {
          "output_type": "stream",
          "name": "stdout",
          "text": [
            "El resultado de la multiplicación entre las dos matrices es:\n",
            "[[ 4 -2  1]\n",
            " [20 -7 12]\n",
            " [-8 13 21]]\n"
          ]
        }
      ]
    },
    {
      "cell_type": "code",
      "source": [
        "#3,4"
      ],
      "metadata": {
        "id": "RGh-5UxV_ibo"
      },
      "execution_count": null,
      "outputs": []
    },
    {
      "cell_type": "markdown",
      "source": [
        "Si partimos de un sistema de ecuaciones de la forma $Ax=B$ y le aplicamos la descomopoción LU donde L es una matriz triangular superior y U una matriz triangular inferior, de modo que pudemos usar la matriz triangular superior L, por lo que el sistema de ecuaciones queda.\n",
        "\n",
        "$$\\begin{pmatrix}\n",
        "A_{00} & 0 & 0 & \\cdots & \\cdots & 0 & 0\\\\\n",
        "A_{10} & A_{11} & 0 & \\cdots & \\cdots & 0 & 0\\\\\n",
        "\\vdots & \\vdots & \\vdots & \\ddots & \\vdots &\\vdots &\\vdots \\\\\n",
        "A_{i1} & A_{i2} & \\cdots & A_{ii} & 0 &\\cdots & 0\\\\\n",
        "\\vdots & \\vdots & \\vdots & \\ddots & \\vdots &\\vdots &\\vdots \\\\\n",
        "A_{n1} & A_{n2} & \\cdots & \\cdots &\\cdots &\\cdots & A_{nn}\n",
        "\\end{pmatrix}\n",
        "\\begin{pmatrix}\n",
        "x_{0} \\\\\n",
        "x_{1} \\\\\n",
        "\\vdots \\\\\n",
        "x_{i}\\\\\n",
        "\\vdots \\\\\n",
        "x_{n}\n",
        "\\end{pmatrix}\n",
        "=\n",
        "\\begin{pmatrix}\n",
        "b_{0} \\\\\n",
        "b_{1} \\\\\n",
        "\\vdots \\\\\n",
        "\\vdots \\\\\n",
        "b_{i}\\\\\n",
        "\\vdots \\\\\n",
        "b_{n}\n",
        "\\end{pmatrix}$$\n",
        "$$ $$\n",
        "\n",
        "Las escuaciones que describe el sistema serian $A_{00}x_0=b_0$\n",
        "\n",
        "$$\n",
        "x_0=\\frac{b_0}{A_{00}}\n",
        "$$\n",
        "\n",
        "para $$  x_1= \\frac{b_1-A_{10}x_0}{A_{11}}$$\n",
        "\n",
        "Si segimos el sistema llegaremos a\n",
        "\n",
        "$$b_i=A_{i0}x_{0} + A_{i1}x_{1}+\\cdots+A_{ii}x_{i}$$\n",
        "Por lo que\n",
        "$$x_i=\\frac{b_i-\\sum_{j=0}^{i-1}A_{ij}x_j}{A_{ii}}$$\n",
        "\n",
        "Que es precisamente la sustitución planteada en un inicio(Sutitucion hacia adelante)"
      ],
      "metadata": {
        "id": "jPxHbuiDDHvn"
      }
    },
    {
      "cell_type": "markdown",
      "source": [
        "Ahora bien, para el caso de la sustitucion hacia atras no utilizaremos la matriz superior L sino la matriz inferior U, Por lo que nuestro sistema ahora esta descrito como: \n",
        "\n",
        "$$\\begin{pmatrix}\n",
        "A_{11} & A_{12} & A_{13} & \\cdots & \\cdots & A_{1 n-1} & A_{1n}\\\\\n",
        "0 & A_{22} & A_{23} & \\cdots & \\cdots & A_{2 n-1} & A_{2n}\\\\\n",
        "\\vdots & \\vdots & \\vdots & \\ddots & \\vdots &\\vdots &\\vdots \\\\\n",
        "0 & 0 & \\cdots & A_{ii} & \\cdots &\\cdots & A_{in}\\\\\n",
        "\\vdots & \\vdots & \\vdots & \\ddots & \\vdots &\\vdots &\\vdots \\\\\n",
        "0 & 0 & \\cdots & \\cdots &\\cdots &\\cdots & A_{nn}\n",
        "\\end{pmatrix}\n",
        "\\begin{pmatrix}\n",
        "x_{1} \\\\\n",
        "x_{2} \\\\\n",
        "\\vdots \\\\\n",
        "x_{i}\\\\\n",
        "\\vdots \\\\\n",
        "x_{n}\n",
        "\\end{pmatrix}\n",
        "=\n",
        "\\begin{pmatrix}\n",
        "b_{1} \\\\\n",
        "b_{2} \\\\\n",
        "\\vdots \\\\\n",
        "\\vdots \\\\\n",
        "b_{i}\\\\\n",
        "\\vdots \\\\\n",
        "b_{n}\n",
        "\\end{pmatrix}$$\n",
        "\n",
        "\n",
        "Las escuaciones que describe el sistema serian \n",
        "\n",
        "$A_{11}x_1+A_{12}x_2+\\cdots+A_{1j}x_j=b_1$\n",
        "\n",
        "$$\n",
        "x_1=\\frac{b_1-A_{12}x_2-\\cdots-A_{1j}x_j}{A_{11}}\n",
        "$$\n",
        "\n",
        "para $$  x_1= \\frac{b_1-A_{10}x_0}{A_{11}}$$\n",
        "\n",
        "Si segimos el sistema llegaremos a\n",
        "\n",
        "$$b_{i}=A_{ii}x_{i}+\\cdots+A_{iJ}x_{J}$$\n",
        "$$x_{i}=\\frac{b_{i}-A_{i i+1}x_{i+1}-\\cdots-L_{ij}x_{j}}{A_{ii}}$$\n",
        "\n",
        "\n",
        "Y simplificando llegamos a \n",
        "$$x_{i}= \\frac{b_{i} -\\sum_{n=i+1}^{j}A_{ij}x_{j}}{A_{ii}}$$\n",
        "Que es precisamente la sustitución planteada en un inicio(Sutitución hacia atras)"
      ],
      "metadata": {
        "id": "gOhtPKwzO33A"
      }
    },
    {
      "cell_type": "code",
      "source": [
        "#7\n",
        "\n",
        "A = np.array([[4,-2,1],[20,-7,12],[-8,13,17]])\n",
        "\n",
        "def factorizacion_LU(A):\n",
        "  L= np.array([[1,0,0],[0,1,0],[0,0,1]])\n",
        "  \n",
        "  U= A.copy()\n",
        "  linea1= A[0,:]\n",
        "  linea2= A[1,:]\n",
        "  linea3= A[2,:]\n",
        "\n",
        "  valor1= -(linea2[0]/linea1[0])\n",
        "  L[1][0]=-valor1\n",
        "  new_line = (valor1*linea1)+ linea2\n",
        "  U[1,:]=new_line\n",
        "\n",
        "  valor2 = -(linea3[0]/linea1[0])\n",
        "  L[2][0]=-valor2\n",
        "  new_line = (valor2*linea1)+ linea3\n",
        "  U[2,:]=new_line\n",
        "\n",
        "  valor3 = -(U[2,:][1]/U[1,:][1])\n",
        "  L[2][1]=-valor3\n",
        "  new_line= (valor3*U[1,:]+U[2,:])\n",
        "  U[2,:]=new_line\n",
        "\n",
        "  return L,U\n",
        "\n",
        "L,U= factorizacion_LU(A)\n",
        "print(\"La descompoción LU de la matriz es igual a:\")\n",
        "print(\"L: \")\n",
        "print(L)\n",
        "print(\"U: \")\n",
        "print(U)"
      ],
      "metadata": {
        "colab": {
          "base_uri": "https://localhost:8080/"
        },
        "id": "tiNafRtr1ACp",
        "outputId": "b39ca23d-0417-40f3-afa4-7443a31fbe92"
      },
      "execution_count": null,
      "outputs": [
        {
          "output_type": "stream",
          "name": "stdout",
          "text": [
            "La descompoción LU de la matriz es igual a:\n",
            "L: \n",
            "[[ 1  0  0]\n",
            " [ 5  1  0]\n",
            " [-2  3  1]]\n",
            "U: \n",
            "[[ 4 -2  1]\n",
            " [ 0  3  7]\n",
            " [ 0  0 -2]]\n"
          ]
        }
      ]
    },
    {
      "cell_type": "code",
      "source": [
        "#9\n",
        "\n",
        "#Generamos la matiz a diagonalizar\n",
        "M= np.array([[4,1,1],[1,3,2],[1,2,5]])\n",
        "\n",
        "#a) \n",
        "def Jacobi(D, it=1000):\n",
        "  A=D.copy()\n",
        "  size= len(A)\n",
        "  Z= -np.identity(size)\n",
        "\n",
        "  #Hallamos el valor no diagonal más grande\n",
        "  for k in range(it):\n",
        "        Pos = (0, 0)\n",
        "        mayor = 0\n",
        "        for i in range(size):\n",
        "            for j in range(i+1, size):\n",
        "                if i!=j:\n",
        "                  value= A[i][j]\n",
        "                  if value > mayor:\n",
        "                    Pos = (i,j)\n",
        "                    mayor = value\n",
        "\n",
        "        fila= Pos[0]\n",
        "        Columna = Pos[1]\n",
        "      \n",
        "\n",
        "    #Establecemos el angulo de rotacion\n",
        "        if A[fila][fila]== A[Columna][Columna]:\n",
        "          theta = np.pi/4\n",
        "        else:\n",
        "          t = (2*A[fila][Columna])/(A[Columna][Columna]-A[fila][fila])\n",
        "          if t >= 0:\n",
        "            theta = 0.5 * np.tan(t)\n",
        "          else:\n",
        "            theta = 0.5 * np.tan(t) + np.pi\n",
        "\n",
        "        valors_Matriz= np.identity(size)\n",
        "\n",
        "        valors_Matriz[fila][fila]= np.cos(theta)\n",
        "        valors_Matriz[Columna][Columna]= np.cos(theta)\n",
        "        valors_Matriz[fila][Columna]= np.sin(theta)\n",
        "        valors_Matriz[Columna][fila]= -np.sin(theta)\n",
        "\n",
        "        A = np.dot(valors_Matriz.T, np.dot(A, valors_Matriz))\n",
        "        Z=  np.dot(Z, valors_Matriz)\n",
        " \n",
        "  return np.diag(A),Z\n",
        "\n",
        "eigen_value, eigen_vectors= Jacobi(M)\n",
        "print(\"Tras ralizar la diagonalización de la matriz a traves del metodo Jacobi, los valores propios son: {} , y los vectores corrrespondiente a dichos valores son: \".format(eigen_value))\n",
        "print(eigen_vectors)"
      ],
      "metadata": {
        "colab": {
          "base_uri": "https://localhost:8080/"
        },
        "id": "0Yvevqjj30k7",
        "outputId": "697d6fdb-eb99-4a27-9035-9b329feb0848"
      },
      "execution_count": null,
      "outputs": [
        {
          "output_type": "stream",
          "name": "stdout",
          "text": [
            "Tras ralizar la diagonalización de la matriz a traves del metodo Jacobi, los valores propios son: [6.89510652 3.39729507 1.70759841] , y los vectores corrrespondiente a dichod valores son: \n",
            "[[ 0.43170413 -0.88573564 -0.17059871]\n",
            " [ 0.49725362  0.07589338  0.86427949]\n",
            " [ 0.75257583  0.45794385 -0.47319874]]\n"
          ]
        }
      ]
    },
    {
      "cell_type": "code",
      "source": [
        "#Comparamos \n",
        "#b)\n",
        "eigen_value,eigen_vec= np.linalg.eig(M)\n",
        "print(\"El valor y los vecotres dados por el paquete son: \")\n",
        "print(eigen_value)\n",
        "print(eigen_vec)"
      ],
      "metadata": {
        "colab": {
          "base_uri": "https://localhost:8080/"
        },
        "id": "h_e9ykZUANtK",
        "outputId": "e19712ac-2845-4d9b-c562-296708d3624b"
      },
      "execution_count": null,
      "outputs": [
        {
          "output_type": "stream",
          "name": "stdout",
          "text": [
            "El valor y los vecotres dados por el paquete son: \n",
            "[6.89510652 3.39729507 1.70759841]\n",
            "[[ 0.43170413  0.88573564  0.17059871]\n",
            " [ 0.49725362 -0.07589338 -0.86427949]\n",
            " [ 0.75257583 -0.45794385  0.47319874]]\n"
          ]
        }
      ]
    },
    {
      "cell_type": "markdown",
      "source": [
        "Podemos Apreciar que ambos resultados son iguales"
      ],
      "metadata": {
        "id": "Fq4WimrdBZnp"
      }
    },
    {
      "cell_type": "code",
      "source": [
        "#10 Potencia inversa\n",
        "\n",
        "H= np.array([[1,2,-1],[1,0,1],[4,-4,5]])\n",
        "xi = -np.random.rand(3)\n",
        "\n",
        "def poten_inversa(xi,H,itmax=1000,tolerancia=1e-5):\n",
        "  eigen_value= 0\n",
        "  x= xi/np.linalg.norm(xi)\n",
        "  for i in range(itmax):\n",
        "    x_0= np.linalg.solve(H,x)\n",
        "    x_0= x_0/np.linalg.norm(x_0)\n",
        "    eigen_value_= np.dot(x_0,x)\n",
        "\n",
        "    if np.abs(eigen_value_-eigen_value)< tolerancia:\n",
        "      break\n",
        "\n",
        "    x= x_0\n",
        "    eigen_value= eigen_value_\n",
        "  \n",
        "  eigen_vector= x\n",
        "  eigen_value= 1/eigen_value\n",
        "  return eigen_vector,eigen_value\n",
        "\n",
        "eigen_vector, eigen_value= poten_inversa(xi,H)\n",
        "print(\"El eigen_vector asociado al hamiltoniado presentado es {} y el valor propio del vector es {}\".format(eigen_vector,eigen_value))"
      ],
      "metadata": {
        "id": "5UnhQKRFDZ1G",
        "colab": {
          "base_uri": "https://localhost:8080/"
        },
        "outputId": "489669b2-1d7f-46b6-d960-ee7fd9d7de45"
      },
      "execution_count": null,
      "outputs": [
        {
          "output_type": "stream",
          "name": "stdout",
          "text": [
            "El eigen_vector asociado al hamiltoniado presentado es [ 0.40760593 -0.41100885 -0.81543187] y el valor propio del vector es 1.0000046193398044\n"
          ]
        }
      ]
    },
    {
      "cell_type": "code",
      "source": [
        "\n",
        "#12\n",
        "#a\n",
        "def jacobian_4(f, x, h): #Derivada de cuarto orden para cada funcion entrante\n",
        "    n = len(f)\n",
        "    jacobian_matrix = np.zeros((n,n))\n",
        "    for i in range(n):\n",
        "      jacobian_matrix[i,0]= (f[i]( x[0] - 2*h,x[1],x[2]) - 8*f[i]( x[0] - h,x[1],x[2])+8*f[i]( x[0] +h,x[1],x[2]) - f[i]( x[0] + 2*h,x[1],x[2]))/(12*h)\n",
        "      jacobian_matrix[i,1]= (f[i]( x[0] ,x[1]-2*h,x[2]) - 8*f[i]( x[0],x[1]-h,x[2])+8*f[i]( x[0] ,x[1]+h,x[2]) - f[i]( x[0],x[1]+2*h,x[2]))/(12*h)\n",
        "      jacobian_matrix[i,2]= (f[i]( x[0],x[1],x[2]-2*h) - 8*f[i]( x[0],x[1],x[2]-h)+8*f[i]( x[0],x[1],x[2]+h) - f[i]( x[0],x[1],x[2]+2*h))/(12*h)\n",
        "      \n",
        "    return jacobian_matrix.T\n",
        "\n",
        "#b #Definimos las funciones\n",
        "\n",
        "F= [lambda x_1,x_2,x_3 : 6*x_1-2*np.cos(x_2*x_3)-1,\n",
        "    lambda x_1,x_2,x_3:9*x_2+(np.sqrt(x_1**2+np.sin(x_3)+1.06)+0.9),\n",
        "    lambda x_1,x_2,x_3:60*x_3+3*np.exp(-x_1*x_2)+10*np.pi-3]\n",
        "\n",
        "print(jacobian_4(F,[0.5,0.5,0.5],0.01))\n"
      ],
      "metadata": {
        "id": "wZrIv4L_E4w9",
        "colab": {
          "base_uri": "https://localhost:8080/"
        },
        "outputId": "e190549a-1721-4b24-bd52-c5b6324c3311"
      },
      "execution_count": null,
      "outputs": [
        {
          "output_type": "stream",
          "name": "stdout",
          "text": [
            "[[ 6.          0.37377753 -1.16820117]\n",
            " [ 0.24740396  9.         -1.16820117]\n",
            " [ 0.24740396  0.32802064 60.        ]]\n"
          ]
        }
      ]
    },
    {
      "cell_type": "code",
      "source": [
        "#c #Realizamos el mismo procedimiento con la derivada de segundo orden\n",
        "def jacobian_2(f,x,h):\n",
        "  n=len(f)\n",
        "  jacobian_matrix = np.zeros((n,n))\n",
        "  for i in range(n):\n",
        "    jacobian_matrix[i,0]= (f[i]( x[0] + h,x[1],x[2]) - f[i]( x[0] - h,x[1],x[2]))/(2*h)\n",
        "    jacobian_matrix[i,1]= (f[i]( x[0] ,x[1]+h,x[2]) - f[i]( x[0],x[1]-h,x[2]))/(2*h)\n",
        "    jacobian_matrix[i,2]= (f[i]( x[0] ,x[1],x[2]+h) - f[i]( x[0],x[1],x[2]-h))/(2*h)\n",
        "\n",
        "  return jacobian_matrix.T\n",
        "\n",
        "\n",
        "print(jacobian_2(F,[0.5,0.5,0.5],0.01))"
      ],
      "metadata": {
        "colab": {
          "base_uri": "https://localhost:8080/"
        },
        "id": "Q4EungadRXp8",
        "outputId": "e4cc92f3-b3e9-4d54-b750-edbfe3be6f4c"
      },
      "execution_count": null,
      "outputs": [
        {
          "output_type": "stream",
          "name": "stdout",
          "text": [
            "[[ 6.          0.37376854 -1.16820604]\n",
            " [ 0.24740293  9.         -1.16820604]\n",
            " [ 0.24740293  0.32801836 60.        ]]\n"
          ]
        }
      ]
    },
    {
      "cell_type": "code",
      "source": [
        "#el valor de h para el cual h^2 es igual con la aproximacion h^4 es: 1e-5\n",
        "print(jacobian_2(F,[0.5,0.5,0.5],1e-5))"
      ],
      "metadata": {
        "colab": {
          "base_uri": "https://localhost:8080/"
        },
        "id": "6ju2dM1IRcEA",
        "outputId": "26eee120-3537-45e5-926c-87dae1baa3bb"
      },
      "execution_count": null,
      "outputs": [
        {
          "output_type": "stream",
          "name": "stdout",
          "text": [
            "[[ 6.          0.37377753 -1.16820117]\n",
            " [ 0.24740396  9.         -1.16820117]\n",
            " [ 0.24740396  0.32802064 60.        ]]\n"
          ]
        }
      ]
    },
    {
      "cell_type": "code",
      "source": [
        "#13 \n",
        "Jx = sym.matrices.Matrix([[0, 0, 0], [0, 0, -1], [0, 1, 0]])\n",
        "Jy = sym.matrices.Matrix([[0, 0, 1], [0, 0, 0], [-1, 0, 0]])\n",
        "Jz = sym.matrices.Matrix([[0, -1, 0], [1, 0, 0], [0, 0, 0]])\n",
        "\n",
        "J=[Jx,Jy,Jz]\n",
        "\n",
        "def operation(A,B): #Comutador\n",
        "  return A*B-B*A\n",
        "\n",
        "#Verificamos para los posibles casos"
      ],
      "metadata": {
        "id": "WB6Gn9-IGTS2"
      },
      "execution_count": null,
      "outputs": []
    },
    {
      "cell_type": "code",
      "source": [
        "#Jx,Jy\n",
        "operation(J[0],J[1])"
      ],
      "metadata": {
        "colab": {
          "base_uri": "https://localhost:8080/",
          "height": 78
        },
        "id": "YdriOZgRLLTl",
        "outputId": "4af93a83-c40d-40da-8e41-6810c77d0277"
      },
      "execution_count": null,
      "outputs": [
        {
          "output_type": "execute_result",
          "data": {
            "text/plain": [
              "Matrix([\n",
              "[0, -1, 0],\n",
              "[1,  0, 0],\n",
              "[0,  0, 0]])"
            ],
            "text/latex": "$\\displaystyle \\left[\\begin{matrix}0 & -1 & 0\\\\1 & 0 & 0\\\\0 & 0 & 0\\end{matrix}\\right]$"
          },
          "metadata": {},
          "execution_count": 86
        }
      ]
    },
    {
      "cell_type": "markdown",
      "source": [
        "Se cumple que $[J_x,J_y]=\\epsilon_{ijk}J_{z}$, ya que $\\epsilon_{xyz}=1$ y\n",
        "\n",
        "$$J_{z}=\\begin{pmatrix}\n",
        "0 & -1 & 0 \\\\\n",
        "1 & 0 & 0 \\\\\n",
        "0 & 0 & 0\n",
        "\\end{pmatrix} $$"
      ],
      "metadata": {
        "id": "hd5jy69_B_Us"
      }
    },
    {
      "cell_type": "code",
      "source": [
        "#Jx,Jz\n",
        "operation(J[0],J[2])"
      ],
      "metadata": {
        "colab": {
          "base_uri": "https://localhost:8080/",
          "height": 78
        },
        "id": "fD_gHsJoKf1q",
        "outputId": "54f6baba-c055-4b72-b8ec-589623d4af47"
      },
      "execution_count": null,
      "outputs": [
        {
          "output_type": "execute_result",
          "data": {
            "text/plain": [
              "Matrix([\n",
              "[0, 0, -1],\n",
              "[0, 0,  0],\n",
              "[1, 0,  0]])"
            ],
            "text/latex": "$\\displaystyle \\left[\\begin{matrix}0 & 0 & -1\\\\0 & 0 & 0\\\\1 & 0 & 0\\end{matrix}\\right]$"
          },
          "metadata": {},
          "execution_count": 88
        }
      ]
    },
    {
      "cell_type": "markdown",
      "source": [
        "Se cumple que $[J_x,J_z]=\\epsilon_{ijk}J_{y}$, ya que $\\epsilon_{xyz}=-1$ y\n",
        "\n",
        "$$J_{y}=\\begin{pmatrix}\n",
        "0 & 0 & 1 \\\\\n",
        "0 & 0 & 0 \\\\\n",
        "-1 & 0 & 0\n",
        "\\end{pmatrix} $$"
      ],
      "metadata": {
        "id": "MYgZ7uzwEyr1"
      }
    },
    {
      "cell_type": "code",
      "source": [
        "#Jy,Jx\n",
        "operation(J[1],J[0])"
      ],
      "metadata": {
        "colab": {
          "base_uri": "https://localhost:8080/",
          "height": 78
        },
        "id": "flub0JI0Gk3N",
        "outputId": "22fdd76d-6968-46fb-90d6-7097ec8012d9"
      },
      "execution_count": null,
      "outputs": [
        {
          "output_type": "execute_result",
          "data": {
            "text/plain": [
              "Matrix([\n",
              "[ 0, 1, 0],\n",
              "[-1, 0, 0],\n",
              "[ 0, 0, 0]])"
            ],
            "text/latex": "$\\displaystyle \\left[\\begin{matrix}0 & 1 & 0\\\\-1 & 0 & 0\\\\0 & 0 & 0\\end{matrix}\\right]$"
          },
          "metadata": {},
          "execution_count": 89
        }
      ]
    },
    {
      "cell_type": "markdown",
      "source": [
        "Se cumple que $[J_y,J_x]=\\epsilon_{ijk}J_{z}$, ya que $\\epsilon_{xyz}=-1$ y\n",
        "\n",
        "$$J_{z}=\\begin{pmatrix}\n",
        "0 & -1 & 1 \\\\\n",
        "1 & 0 & 0 \\\\\n",
        "0 & 0 & 0\n",
        "\\end{pmatrix} $$"
      ],
      "metadata": {
        "id": "Q9dJAJxuFDBY"
      }
    },
    {
      "cell_type": "code",
      "source": [
        "#Jz,Jx\n",
        "operation(J[2],J[0])"
      ],
      "metadata": {
        "colab": {
          "base_uri": "https://localhost:8080/",
          "height": 78
        },
        "id": "tSySqV6NLr5c",
        "outputId": "53215b31-5dc7-4b0f-88bc-53a2030c7d83"
      },
      "execution_count": null,
      "outputs": [
        {
          "output_type": "execute_result",
          "data": {
            "text/plain": [
              "Matrix([\n",
              "[ 0, 0, 1],\n",
              "[ 0, 0, 0],\n",
              "[-1, 0, 0]])"
            ],
            "text/latex": "$\\displaystyle \\left[\\begin{matrix}0 & 0 & 1\\\\0 & 0 & 0\\\\-1 & 0 & 0\\end{matrix}\\right]$"
          },
          "metadata": {},
          "execution_count": 90
        }
      ]
    },
    {
      "cell_type": "markdown",
      "source": [
        "Se cumple que $[J_z,J_x]=\\epsilon_{ijk}J_{y}$, ya que $\\epsilon_{xyz}=1$ y\n",
        "\n",
        "$$J_{y}=\\begin{pmatrix}\n",
        "0 & 0 & 1 \\\\\n",
        "0 & 0 & 0 \\\\\n",
        "-1 & 0 & 0\n",
        "\\end{pmatrix} $$"
      ],
      "metadata": {
        "id": "bGlqV9_jFVpQ"
      }
    },
    {
      "cell_type": "code",
      "source": [
        "#Jz,Jy\n",
        "operation(J[2],J[1])"
      ],
      "metadata": {
        "colab": {
          "base_uri": "https://localhost:8080/",
          "height": 78
        },
        "id": "yIFgncn-L3g6",
        "outputId": "4cb07e90-3337-4f5e-c6b2-a91deb1e93b2"
      },
      "execution_count": null,
      "outputs": [
        {
          "output_type": "execute_result",
          "data": {
            "text/plain": [
              "Matrix([\n",
              "[0,  0, 0],\n",
              "[0,  0, 1],\n",
              "[0, -1, 0]])"
            ],
            "text/latex": "$\\displaystyle \\left[\\begin{matrix}0 & 0 & 0\\\\0 & 0 & 1\\\\0 & -1 & 0\\end{matrix}\\right]$"
          },
          "metadata": {},
          "execution_count": 92
        }
      ]
    },
    {
      "cell_type": "markdown",
      "source": [
        "Se cumple que  $[J_{y},J_{z}]=\\epsilon_{ijk}J_{x}$ ya que $\\epsilon_{xyz}=-1$ y \n",
        "$$J_{x}=\\begin{pmatrix}\n",
        "0 & 0 & 0 \\\\\n",
        "0 & 0 & 1 \\\\\n",
        "0 & -1 & 0\n",
        "\\end{pmatrix} $$"
      ],
      "metadata": {
        "id": "nqbYjND3Ffur"
      }
    },
    {
      "cell_type": "code",
      "source": [
        "#Jy,Jz\n",
        "operation(J[1],J[2])"
      ],
      "metadata": {
        "colab": {
          "base_uri": "https://localhost:8080/",
          "height": 78
        },
        "id": "fXOIRnMNMAmS",
        "outputId": "7b4a7821-921f-4266-b289-3103422d3523"
      },
      "execution_count": null,
      "outputs": [
        {
          "output_type": "execute_result",
          "data": {
            "text/plain": [
              "Matrix([\n",
              "[0, 0,  0],\n",
              "[0, 0, -1],\n",
              "[0, 1,  0]])"
            ],
            "text/latex": "$\\displaystyle \\left[\\begin{matrix}0 & 0 & 0\\\\0 & 0 & -1\\\\0 & 1 & 0\\end{matrix}\\right]$"
          },
          "metadata": {},
          "execution_count": 93
        }
      ]
    },
    {
      "cell_type": "markdown",
      "source": [
        "Se cumple que  $[J_{y},J_{z}]=\\epsilon_{ijk}J_{x}$ ya que $\\epsilon_{xyz}=1$ y \n",
        "$$J_{x}=\\begin{pmatrix}\n",
        "0 & 0 & 0 \\\\\n",
        "0 & 0 & -1 \\\\\n",
        "0 & 1 & 0\n",
        "\\end{pmatrix} $$"
      ],
      "metadata": {
        "id": "icY-EQgHGM1O"
      }
    },
    {
      "cell_type": "code",
      "source": [
        "#Jx,Jx\n",
        "operation(J[0],J[0])"
      ],
      "metadata": {
        "colab": {
          "base_uri": "https://localhost:8080/",
          "height": 78
        },
        "id": "GXPIiBaOMNcr",
        "outputId": "42de2464-1165-422d-e6f7-a735ccbb5ced"
      },
      "execution_count": null,
      "outputs": [
        {
          "output_type": "execute_result",
          "data": {
            "text/plain": [
              "Matrix([\n",
              "[0, 0, 0],\n",
              "[0, 0, 0],\n",
              "[0, 0, 0]])"
            ],
            "text/latex": "$\\displaystyle \\left[\\begin{matrix}0 & 0 & 0\\\\0 & 0 & 0\\\\0 & 0 & 0\\end{matrix}\\right]$"
          },
          "metadata": {},
          "execution_count": 94
        }
      ]
    },
    {
      "cell_type": "markdown",
      "source": [
        "Se cumple que  $[J_{x},J_{x}]=\\epsilon_{ijk}J_{z}$ ya que $\\epsilon_{xyz}=0$ "
      ],
      "metadata": {
        "id": "OsSvhFPcGRrv"
      }
    },
    {
      "cell_type": "code",
      "source": [
        "#Jy,Jy\n",
        "operation(J[1],J[1])"
      ],
      "metadata": {
        "colab": {
          "base_uri": "https://localhost:8080/",
          "height": 78
        },
        "id": "NPZIaZ0oMV-z",
        "outputId": "6cfceb6c-58f7-4c8f-c0f4-dff376ddbb0b"
      },
      "execution_count": null,
      "outputs": [
        {
          "output_type": "execute_result",
          "data": {
            "text/plain": [
              "Matrix([\n",
              "[0, 0, 0],\n",
              "[0, 0, 0],\n",
              "[0, 0, 0]])"
            ],
            "text/latex": "$\\displaystyle \\left[\\begin{matrix}0 & 0 & 0\\\\0 & 0 & 0\\\\0 & 0 & 0\\end{matrix}\\right]$"
          },
          "metadata": {},
          "execution_count": 95
        }
      ]
    },
    {
      "cell_type": "markdown",
      "source": [
        "Se cumple que  $[J_{y},J_{y}]=\\epsilon_{ijk}J_{z}$ ya que $\\epsilon_{xyz}=0$"
      ],
      "metadata": {
        "id": "awazghJnG0xc"
      }
    },
    {
      "cell_type": "code",
      "source": [
        "#Jz,Jz\n",
        "operation(J[1],J[1])"
      ],
      "metadata": {
        "colab": {
          "base_uri": "https://localhost:8080/",
          "height": 78
        },
        "id": "_tZXYaVsMcBI",
        "outputId": "33042200-faaf-4311-d8fe-828bdecfe13c"
      },
      "execution_count": null,
      "outputs": [
        {
          "output_type": "execute_result",
          "data": {
            "text/plain": [
              "Matrix([\n",
              "[0, 0, 0],\n",
              "[0, 0, 0],\n",
              "[0, 0, 0]])"
            ],
            "text/latex": "$\\displaystyle \\left[\\begin{matrix}0 & 0 & 0\\\\0 & 0 & 0\\\\0 & 0 & 0\\end{matrix}\\right]$"
          },
          "metadata": {},
          "execution_count": 96
        }
      ]
    },
    {
      "cell_type": "markdown",
      "source": [
        "Se cumple que  $[J_{z},J_{z}]=\\epsilon_{ijk}J_{x}$ ya que $\\epsilon_{xyz}=0$"
      ],
      "metadata": {
        "id": "EPeViyaEG3Rs"
      }
    },
    {
      "cell_type": "code",
      "source": [
        "#14 \n",
        "s_x= sym.matrices.Matrix([[0,1],[1,0]])\n",
        "s_y= sym.matrices.Matrix([[0,-1j],[1j,0]])\n",
        "s_z= sym.matrices.Matrix([[1,0],[0,-1]])\n",
        "\n",
        "def conmutador (A,B):\n",
        "  return A*B-B*A\n",
        "\n",
        "#Verificamos los posibles casos"
      ],
      "metadata": {
        "id": "P8Vz17DYMzQy"
      },
      "execution_count": null,
      "outputs": []
    },
    {
      "cell_type": "code",
      "source": [
        "#s_x,s_y\n",
        "conmutador(s_x,s_y)"
      ],
      "metadata": {
        "colab": {
          "base_uri": "https://localhost:8080/",
          "height": 58
        },
        "id": "FQhbVrRxOAPX",
        "outputId": "95cda836-ee0b-4a88-b5b5-f527a14fe0dd"
      },
      "execution_count": null,
      "outputs": [
        {
          "output_type": "execute_result",
          "data": {
            "text/plain": [
              "Matrix([\n",
              "[2.0*I,      0],\n",
              "[    0, -2.0*I]])"
            ],
            "text/latex": "$\\displaystyle \\left[\\begin{matrix}2.0 i & 0\\\\0 & - 2.0 i\\end{matrix}\\right]$"
          },
          "metadata": {},
          "execution_count": 99
        }
      ]
    },
    {
      "cell_type": "markdown",
      "source": [
        "Se cumple que  $[\\sigma_{x},\\sigma_{y}]=2i \\epsilon_{ijk} \\sigma_{z}$ ya que $\\epsilon_{xyz}=1$ y \n",
        "$$\\sigma_{x}=\\begin{pmatrix}\n",
        " 1 & 0 \\\\\n",
        " 0 & -1 \n",
        "\\end{pmatrix} $$"
      ],
      "metadata": {
        "id": "c5hL5diDHF0t"
      }
    },
    {
      "cell_type": "code",
      "source": [
        "#s_x,s_z\n",
        "conmutador(s_x,s_z)"
      ],
      "metadata": {
        "colab": {
          "base_uri": "https://localhost:8080/",
          "height": 58
        },
        "id": "sb6q6MMNOZ_a",
        "outputId": "bb9a3f19-489e-4ad7-80ff-e22b99e5cdd0"
      },
      "execution_count": null,
      "outputs": [
        {
          "output_type": "execute_result",
          "data": {
            "text/plain": [
              "Matrix([\n",
              "[0, -2],\n",
              "[2,  0]])"
            ],
            "text/latex": "$\\displaystyle \\left[\\begin{matrix}0 & -2\\\\2 & 0\\end{matrix}\\right]$"
          },
          "metadata": {},
          "execution_count": 100
        }
      ]
    },
    {
      "cell_type": "markdown",
      "source": [
        "Se cumple que  $[\\sigma_{x},\\sigma_{z}]=2i \\epsilon_{ijk} \\sigma_{y}$ ya que $\\epsilon_{xyz}=1$ y \n",
        "$$\\sigma_{y}=\\begin{pmatrix}\n",
        " 0 & -i \\\\\n",
        " i & 0 \n",
        "\\end{pmatrix} $$"
      ],
      "metadata": {
        "id": "cgiG5V-nH4dr"
      }
    },
    {
      "cell_type": "code",
      "source": [
        "#s_y,s_x\n",
        "conmutador(s_y,s_x)"
      ],
      "metadata": {
        "colab": {
          "base_uri": "https://localhost:8080/",
          "height": 58
        },
        "id": "l4Q5lIsmOffs",
        "outputId": "ed4d2f09-ae4a-4fd8-ef58-c4f68c15294a"
      },
      "execution_count": null,
      "outputs": [
        {
          "output_type": "execute_result",
          "data": {
            "text/plain": [
              "Matrix([\n",
              "[-2.0*I,     0],\n",
              "[     0, 2.0*I]])"
            ],
            "text/latex": "$\\displaystyle \\left[\\begin{matrix}- 2.0 i & 0\\\\0 & 2.0 i\\end{matrix}\\right]$"
          },
          "metadata": {},
          "execution_count": 102
        }
      ]
    },
    {
      "cell_type": "markdown",
      "source": [
        "Se cumple que  $[\\sigma_{y},\\sigma_{x}]=2i \\epsilon_{ijk} \\sigma_{z}$ ya que $\\epsilon_{xyz}=-1$ y \n",
        "$$\\sigma_{z}=\\begin{pmatrix}\n",
        " 1 & 0 \\\\\n",
        " 0 & -1 \n",
        "\\end{pmatrix} $$"
      ],
      "metadata": {
        "id": "SsYa3dnzH8NO"
      }
    },
    {
      "cell_type": "code",
      "source": [
        "#s_z,s_x\n",
        "conmutador(s_z,s_x)"
      ],
      "metadata": {
        "colab": {
          "base_uri": "https://localhost:8080/",
          "height": 58
        },
        "id": "b6hK2n3aOl5V",
        "outputId": "9154d185-5b60-4aab-b72f-4e035e947e03"
      },
      "execution_count": null,
      "outputs": [
        {
          "output_type": "execute_result",
          "data": {
            "text/plain": [
              "Matrix([\n",
              "[ 0, 2],\n",
              "[-2, 0]])"
            ],
            "text/latex": "$\\displaystyle \\left[\\begin{matrix}0 & 2\\\\-2 & 0\\end{matrix}\\right]$"
          },
          "metadata": {},
          "execution_count": 103
        }
      ]
    },
    {
      "cell_type": "markdown",
      "source": [
        "Se cumple que  $[\\sigma_{z},\\sigma_{x}]=2i \\epsilon_{ijk} \\sigma_{y}$ ya que $\\epsilon_{xyz}=-1$ y \n",
        "$$\\sigma_{y}=\\begin{pmatrix}\n",
        " 0 & -i \\\\\n",
        " i& 0 \n",
        "\\end{pmatrix} $$"
      ],
      "metadata": {
        "id": "e9pdv6rpIAtY"
      }
    },
    {
      "cell_type": "code",
      "source": [
        "#s_y,s_z\n",
        "conmutador(s_y,s_z)"
      ],
      "metadata": {
        "colab": {
          "base_uri": "https://localhost:8080/",
          "height": 58
        },
        "id": "Sucq4cLPOsTj",
        "outputId": "251cfa2d-7a0d-47f5-95ce-409ed835e692"
      },
      "execution_count": null,
      "outputs": [
        {
          "output_type": "execute_result",
          "data": {
            "text/plain": [
              "Matrix([\n",
              "[    0, 2.0*I],\n",
              "[2.0*I,     0]])"
            ],
            "text/latex": "$\\displaystyle \\left[\\begin{matrix}0 & 2.0 i\\\\2.0 i & 0\\end{matrix}\\right]$"
          },
          "metadata": {},
          "execution_count": 104
        }
      ]
    },
    {
      "cell_type": "markdown",
      "source": [
        "Se cumple que  $[\\sigma_{y},\\sigma_{z}]=2i \\epsilon_{ijk} \\sigma_{x}$ ya que $\\epsilon_{xyz}=1$ y \n",
        "$$\\sigma_{x}=\\begin{pmatrix}\n",
        " 0 & 1 \\\\\n",
        " 1 & 0 \n",
        "\\end{pmatrix} $$"
      ],
      "metadata": {
        "id": "61YI9NbnIJNi"
      }
    },
    {
      "cell_type": "code",
      "source": [
        "#s_z,s_y\n",
        "conmutador(s_z,s_y)"
      ],
      "metadata": {
        "colab": {
          "base_uri": "https://localhost:8080/",
          "height": 58
        },
        "id": "KSl7lv37Oxi7",
        "outputId": "4cc44e1d-dc79-4503-f359-9473b0b0c309"
      },
      "execution_count": null,
      "outputs": [
        {
          "output_type": "execute_result",
          "data": {
            "text/plain": [
              "Matrix([\n",
              "[     0, -2.0*I],\n",
              "[-2.0*I,      0]])"
            ],
            "text/latex": "$\\displaystyle \\left[\\begin{matrix}0 & - 2.0 i\\\\- 2.0 i & 0\\end{matrix}\\right]$"
          },
          "metadata": {},
          "execution_count": 105
        }
      ]
    },
    {
      "cell_type": "markdown",
      "source": [
        "Se cumple que  $[\\sigma_{z},\\sigma_{y}]=2i \\epsilon_{ijk} \\sigma_{x}$ ya que $\\epsilon_{xyz}=-1$ y \n",
        "$$\\sigma_{x}=\\begin{pmatrix}\n",
        " 0 & 1 \\\\\n",
        " 1& 0 \n",
        "\\end{pmatrix} $$"
      ],
      "metadata": {
        "id": "sAVskXcXIO9A"
      }
    },
    {
      "cell_type": "code",
      "source": [
        "#s_x,s_x\n",
        "conmutador(s_x,s_x)"
      ],
      "metadata": {
        "colab": {
          "base_uri": "https://localhost:8080/",
          "height": 58
        },
        "id": "WTjzKB6QO3V_",
        "outputId": "94051a61-6e67-43ce-e7b5-0966e7285723"
      },
      "execution_count": null,
      "outputs": [
        {
          "output_type": "execute_result",
          "data": {
            "text/plain": [
              "Matrix([\n",
              "[0, 0],\n",
              "[0, 0]])"
            ],
            "text/latex": "$\\displaystyle \\left[\\begin{matrix}0 & 0\\\\0 & 0\\end{matrix}\\right]$"
          },
          "metadata": {},
          "execution_count": 107
        }
      ]
    },
    {
      "cell_type": "markdown",
      "source": [
        "Se cumple que  $[\\sigma_{x},\\sigma_{x}]=2i \\epsilon_{ijk} \\sigma_{z}$ ya que $\\epsilon_{xyz}=0$"
      ],
      "metadata": {
        "id": "pfL_nk2dIaW3"
      }
    },
    {
      "cell_type": "code",
      "source": [
        "#s_y,s_y\n",
        "conmutador(s_y,s_y)"
      ],
      "metadata": {
        "colab": {
          "base_uri": "https://localhost:8080/",
          "height": 58
        },
        "id": "KFYQZdjtO8j2",
        "outputId": "7dc13827-378f-4439-b6b5-ab81d71bb50c"
      },
      "execution_count": null,
      "outputs": [
        {
          "output_type": "execute_result",
          "data": {
            "text/plain": [
              "Matrix([\n",
              "[0, 0],\n",
              "[0, 0]])"
            ],
            "text/latex": "$\\displaystyle \\left[\\begin{matrix}0 & 0\\\\0 & 0\\end{matrix}\\right]$"
          },
          "metadata": {},
          "execution_count": 108
        }
      ]
    },
    {
      "cell_type": "markdown",
      "source": [
        "Se cumple que  $[\\sigma_{y},\\sigma_{y}]=2i \\epsilon_{ijk} \\sigma_{z}$ ya que $\\epsilon_{xyz}=0$"
      ],
      "metadata": {
        "id": "DQO1SgEOId1P"
      }
    },
    {
      "cell_type": "code",
      "source": [
        "#s_z,s_z\n",
        "conmutador(s_z,s_z)"
      ],
      "metadata": {
        "id": "f37boTPTPBGi"
      },
      "execution_count": null,
      "outputs": []
    },
    {
      "cell_type": "markdown",
      "source": [
        "Se cumple que  $[\\sigma_{z},\\sigma_{z}]=2i \\epsilon_{ijk} \\sigma_{x}$ ya que $\\epsilon_{xyz}=0$"
      ],
      "metadata": {
        "id": "KwutUFk4Igqp"
      }
    },
    {
      "cell_type": "code",
      "source": [
        "#15\n",
        "G_0= sym.matrices.Matrix([[1,0,0,0],[0,1,0,0],[0,0,-1,0],[0,0,0,-1]])\n",
        "G_1= sym.matrices.Matrix([[0,0,0,1],[0,0,1,0],[0,-1,0,0],[-1,0,0,0]])\n",
        "G_2= sym.matrices.Matrix([[0,0,0,-1j],[0,0,1j,0],[0,1j,0,0],[-1j,0,0,0]])\n",
        "G_3= sym.matrices.Matrix([[0,0,1,0],[0,0,0,-1],[-1,0,0,0],[0,1,0,0]])\n",
        "\n",
        "def anticonmutacion (A,B):\n",
        "  return A*B+B*A\n",
        "\n",
        "#verificamos los casos"
      ],
      "metadata": {
        "id": "5meif3hBPFrf"
      },
      "execution_count": null,
      "outputs": []
    },
    {
      "cell_type": "markdown",
      "source": [
        " Para el primer caso, podemos observar que sin importar el orden de los índices, el resultado obtenido es la matriz cero."
      ],
      "metadata": {
        "id": "foBOUxVBJciq"
      }
    },
    {
      "cell_type": "code",
      "source": [
        "#G_0,G_1\n",
        "anticonmutacion(G_0,G_1)"
      ],
      "metadata": {
        "colab": {
          "base_uri": "https://localhost:8080/",
          "height": 98
        },
        "id": "QDzQmaHZRDpZ",
        "outputId": "1849cb40-e110-4a06-9b9b-4172f5e436e7"
      },
      "execution_count": null,
      "outputs": [
        {
          "output_type": "execute_result",
          "data": {
            "text/plain": [
              "Matrix([\n",
              "[0, 0, 0, 0],\n",
              "[0, 0, 0, 0],\n",
              "[0, 0, 0, 0],\n",
              "[0, 0, 0, 0]])"
            ],
            "text/latex": "$\\displaystyle \\left[\\begin{matrix}0 & 0 & 0 & 0\\\\0 & 0 & 0 & 0\\\\0 & 0 & 0 & 0\\\\0 & 0 & 0 & 0\\end{matrix}\\right]$"
          },
          "metadata": {},
          "execution_count": 116
        }
      ]
    },
    {
      "cell_type": "code",
      "source": [
        "#G_0,G_2\n",
        "anticonmutacion(G_0,G_2)"
      ],
      "metadata": {
        "colab": {
          "base_uri": "https://localhost:8080/",
          "height": 98
        },
        "id": "SaOvgrWFRfqU",
        "outputId": "c29ded9f-a4e0-4720-b70c-bf530689c972"
      },
      "execution_count": null,
      "outputs": [
        {
          "output_type": "execute_result",
          "data": {
            "text/plain": [
              "Matrix([\n",
              "[0, 0, 0, 0],\n",
              "[0, 0, 0, 0],\n",
              "[0, 0, 0, 0],\n",
              "[0, 0, 0, 0]])"
            ],
            "text/latex": "$\\displaystyle \\left[\\begin{matrix}0 & 0 & 0 & 0\\\\0 & 0 & 0 & 0\\\\0 & 0 & 0 & 0\\\\0 & 0 & 0 & 0\\end{matrix}\\right]$"
          },
          "metadata": {},
          "execution_count": 117
        }
      ]
    },
    {
      "cell_type": "code",
      "source": [
        "#G_0,G_3\n",
        "anticonmutacion(G_0,G_3)"
      ],
      "metadata": {
        "colab": {
          "base_uri": "https://localhost:8080/",
          "height": 98
        },
        "id": "402KDlffRrAQ",
        "outputId": "222e2899-b340-4bba-b8c8-784d30b57bd2"
      },
      "execution_count": null,
      "outputs": [
        {
          "output_type": "execute_result",
          "data": {
            "text/plain": [
              "Matrix([\n",
              "[0, 0, 0, 0],\n",
              "[0, 0, 0, 0],\n",
              "[0, 0, 0, 0],\n",
              "[0, 0, 0, 0]])"
            ],
            "text/latex": "$\\displaystyle \\left[\\begin{matrix}0 & 0 & 0 & 0\\\\0 & 0 & 0 & 0\\\\0 & 0 & 0 & 0\\\\0 & 0 & 0 & 0\\end{matrix}\\right]$"
          },
          "metadata": {},
          "execution_count": 118
        }
      ]
    },
    {
      "cell_type": "code",
      "source": [
        "#G_1,G_0\n",
        "anticonmutacion(G_1,G_0)"
      ],
      "metadata": {
        "colab": {
          "base_uri": "https://localhost:8080/",
          "height": 98
        },
        "id": "231DH_XxRwm1",
        "outputId": "826a173b-8ac3-4156-c360-f57d447d769e"
      },
      "execution_count": null,
      "outputs": [
        {
          "output_type": "execute_result",
          "data": {
            "text/plain": [
              "Matrix([\n",
              "[0, 0, 0, 0],\n",
              "[0, 0, 0, 0],\n",
              "[0, 0, 0, 0],\n",
              "[0, 0, 0, 0]])"
            ],
            "text/latex": "$\\displaystyle \\left[\\begin{matrix}0 & 0 & 0 & 0\\\\0 & 0 & 0 & 0\\\\0 & 0 & 0 & 0\\\\0 & 0 & 0 & 0\\end{matrix}\\right]$"
          },
          "metadata": {},
          "execution_count": 119
        }
      ]
    },
    {
      "cell_type": "code",
      "source": [
        "#G_2,G_0\n",
        "anticonmutacion(G_2,G_0)"
      ],
      "metadata": {
        "colab": {
          "base_uri": "https://localhost:8080/",
          "height": 98
        },
        "id": "52ei858ZR4yS",
        "outputId": "ad440aa1-fad6-47d9-8b85-3d0798153981"
      },
      "execution_count": null,
      "outputs": [
        {
          "output_type": "execute_result",
          "data": {
            "text/plain": [
              "Matrix([\n",
              "[0, 0, 0, 0],\n",
              "[0, 0, 0, 0],\n",
              "[0, 0, 0, 0],\n",
              "[0, 0, 0, 0]])"
            ],
            "text/latex": "$\\displaystyle \\left[\\begin{matrix}0 & 0 & 0 & 0\\\\0 & 0 & 0 & 0\\\\0 & 0 & 0 & 0\\\\0 & 0 & 0 & 0\\end{matrix}\\right]$"
          },
          "metadata": {},
          "execution_count": 120
        }
      ]
    },
    {
      "cell_type": "code",
      "source": [
        "#G_3,G_0\n",
        "anticonmutacion(G_3,G_0)"
      ],
      "metadata": {
        "colab": {
          "base_uri": "https://localhost:8080/",
          "height": 98
        },
        "id": "Nmsq9uJVT2hE",
        "outputId": "b3b4ebb9-3de5-49d3-e624-3fe81f66c991"
      },
      "execution_count": null,
      "outputs": [
        {
          "output_type": "execute_result",
          "data": {
            "text/plain": [
              "Matrix([\n",
              "[0, 0, 0, 0],\n",
              "[0, 0, 0, 0],\n",
              "[0, 0, 0, 0],\n",
              "[0, 0, 0, 0]])"
            ],
            "text/latex": "$\\displaystyle \\left[\\begin{matrix}0 & 0 & 0 & 0\\\\0 & 0 & 0 & 0\\\\0 & 0 & 0 & 0\\\\0 & 0 & 0 & 0\\end{matrix}\\right]$"
          },
          "metadata": {},
          "execution_count": 121
        }
      ]
    },
    {
      "cell_type": "code",
      "source": [
        "#G_1,G_2\n",
        "anticonmutacion(G_1,G_2)\n"
      ],
      "metadata": {
        "colab": {
          "base_uri": "https://localhost:8080/",
          "height": 98
        },
        "id": "NWyMxggPT-Xn",
        "outputId": "bf4809bc-08df-4cc2-a88b-840b60497581"
      },
      "execution_count": null,
      "outputs": [
        {
          "output_type": "execute_result",
          "data": {
            "text/plain": [
              "Matrix([\n",
              "[0, 0, 0, 0],\n",
              "[0, 0, 0, 0],\n",
              "[0, 0, 0, 0],\n",
              "[0, 0, 0, 0]])"
            ],
            "text/latex": "$\\displaystyle \\left[\\begin{matrix}0 & 0 & 0 & 0\\\\0 & 0 & 0 & 0\\\\0 & 0 & 0 & 0\\\\0 & 0 & 0 & 0\\end{matrix}\\right]$"
          },
          "metadata": {},
          "execution_count": 122
        }
      ]
    },
    {
      "cell_type": "code",
      "source": [
        "#G_1,G_3\n",
        "anticonmutacion(G_1,G_3)"
      ],
      "metadata": {
        "colab": {
          "base_uri": "https://localhost:8080/",
          "height": 98
        },
        "id": "oc65OCY3UED-",
        "outputId": "2fe7f786-78b3-4808-e2f5-fcd8966f167e"
      },
      "execution_count": null,
      "outputs": [
        {
          "output_type": "execute_result",
          "data": {
            "text/plain": [
              "Matrix([\n",
              "[0, 0, 0, 0],\n",
              "[0, 0, 0, 0],\n",
              "[0, 0, 0, 0],\n",
              "[0, 0, 0, 0]])"
            ],
            "text/latex": "$\\displaystyle \\left[\\begin{matrix}0 & 0 & 0 & 0\\\\0 & 0 & 0 & 0\\\\0 & 0 & 0 & 0\\\\0 & 0 & 0 & 0\\end{matrix}\\right]$"
          },
          "metadata": {},
          "execution_count": 123
        }
      ]
    },
    {
      "cell_type": "code",
      "source": [
        "#G_2,G_1\n",
        "anticonmutacion(G_2,G_1)"
      ],
      "metadata": {
        "colab": {
          "base_uri": "https://localhost:8080/",
          "height": 98
        },
        "id": "yYx9Dz3nUJcI",
        "outputId": "2f27539d-31d6-4a59-d74a-c3f248ce44ca"
      },
      "execution_count": null,
      "outputs": [
        {
          "output_type": "execute_result",
          "data": {
            "text/plain": [
              "Matrix([\n",
              "[0, 0, 0, 0],\n",
              "[0, 0, 0, 0],\n",
              "[0, 0, 0, 0],\n",
              "[0, 0, 0, 0]])"
            ],
            "text/latex": "$\\displaystyle \\left[\\begin{matrix}0 & 0 & 0 & 0\\\\0 & 0 & 0 & 0\\\\0 & 0 & 0 & 0\\\\0 & 0 & 0 & 0\\end{matrix}\\right]$"
          },
          "metadata": {},
          "execution_count": 125
        }
      ]
    },
    {
      "cell_type": "code",
      "source": [
        "#G_3,G_1\n",
        "anticonmutacion(G_3,G_1)"
      ],
      "metadata": {
        "colab": {
          "base_uri": "https://localhost:8080/",
          "height": 98
        },
        "id": "mhuMPBw9UR3B",
        "outputId": "5e7e38a2-8528-4970-dc5f-ddc36be610d3"
      },
      "execution_count": null,
      "outputs": [
        {
          "output_type": "execute_result",
          "data": {
            "text/plain": [
              "Matrix([\n",
              "[0, 0, 0, 0],\n",
              "[0, 0, 0, 0],\n",
              "[0, 0, 0, 0],\n",
              "[0, 0, 0, 0]])"
            ],
            "text/latex": "$\\displaystyle \\left[\\begin{matrix}0 & 0 & 0 & 0\\\\0 & 0 & 0 & 0\\\\0 & 0 & 0 & 0\\\\0 & 0 & 0 & 0\\end{matrix}\\right]$"
          },
          "metadata": {},
          "execution_count": 128
        }
      ]
    },
    {
      "cell_type": "code",
      "source": [
        "#G_2,G_3\n",
        "anticonmutacion(G_2,G_3)"
      ],
      "metadata": {
        "colab": {
          "base_uri": "https://localhost:8080/",
          "height": 98
        },
        "id": "zV-mW13cUZtD",
        "outputId": "966cde12-d48f-49f0-c96c-d91a37001331"
      },
      "execution_count": null,
      "outputs": [
        {
          "output_type": "execute_result",
          "data": {
            "text/plain": [
              "Matrix([\n",
              "[0, 0, 0, 0],\n",
              "[0, 0, 0, 0],\n",
              "[0, 0, 0, 0],\n",
              "[0, 0, 0, 0]])"
            ],
            "text/latex": "$\\displaystyle \\left[\\begin{matrix}0 & 0 & 0 & 0\\\\0 & 0 & 0 & 0\\\\0 & 0 & 0 & 0\\\\0 & 0 & 0 & 0\\end{matrix}\\right]$"
          },
          "metadata": {},
          "execution_count": 129
        }
      ]
    },
    {
      "cell_type": "code",
      "source": [
        "#G_3,G_2\n",
        "anticonmutacion(G_3,G_2)"
      ],
      "metadata": {
        "colab": {
          "base_uri": "https://localhost:8080/",
          "height": 98
        },
        "id": "ovUygTOmUf-f",
        "outputId": "9d2a8eb3-d677-43df-9e90-b993579479aa"
      },
      "execution_count": null,
      "outputs": [
        {
          "output_type": "execute_result",
          "data": {
            "text/plain": [
              "Matrix([\n",
              "[0, 0, 0, 0],\n",
              "[0, 0, 0, 0],\n",
              "[0, 0, 0, 0],\n",
              "[0, 0, 0, 0]])"
            ],
            "text/latex": "$\\displaystyle \\left[\\begin{matrix}0 & 0 & 0 & 0\\\\0 & 0 & 0 & 0\\\\0 & 0 & 0 & 0\\\\0 & 0 & 0 & 0\\end{matrix}\\right]$"
          },
          "metadata": {},
          "execution_count": 130
        }
      ]
    },
    {
      "cell_type": "code",
      "source": [
        "#Casos i=j"
      ],
      "metadata": {
        "id": "mhG3KvLvUmxm"
      },
      "execution_count": null,
      "outputs": []
    },
    {
      "cell_type": "markdown",
      "source": [
        "Sin embargo para el segundo caso, podemos observar que el resultado estara dado por $2\\mathbb{I}_{4x4}$ para $γ_0$ y $-2\\mathbb{I}_{4x4}$ para cualquier otro $γ_1$\n"
      ],
      "metadata": {
        "id": "vFw9LiVzJfcb"
      }
    },
    {
      "cell_type": "code",
      "source": [
        "#G_0,G_0\n",
        "anticonmutacion(G_0,G_0)"
      ],
      "metadata": {
        "colab": {
          "base_uri": "https://localhost:8080/",
          "height": 98
        },
        "id": "w0Nd9ee_Uq8q",
        "outputId": "04837f53-0131-4eb2-f4f3-3bc895188e7d"
      },
      "execution_count": null,
      "outputs": [
        {
          "output_type": "execute_result",
          "data": {
            "text/plain": [
              "Matrix([\n",
              "[2, 0, 0, 0],\n",
              "[0, 2, 0, 0],\n",
              "[0, 0, 2, 0],\n",
              "[0, 0, 0, 2]])"
            ],
            "text/latex": "$\\displaystyle \\left[\\begin{matrix}2 & 0 & 0 & 0\\\\0 & 2 & 0 & 0\\\\0 & 0 & 2 & 0\\\\0 & 0 & 0 & 2\\end{matrix}\\right]$"
          },
          "metadata": {},
          "execution_count": 132
        }
      ]
    },
    {
      "cell_type": "code",
      "source": [
        "#G_1,G_1\n",
        "anticonmutacion(G_1,G_1)"
      ],
      "metadata": {
        "colab": {
          "base_uri": "https://localhost:8080/",
          "height": 98
        },
        "id": "D4dRHsGrUxvu",
        "outputId": "a3a31163-527f-4b42-99ab-0532b0fa3c39"
      },
      "execution_count": null,
      "outputs": [
        {
          "output_type": "execute_result",
          "data": {
            "text/plain": [
              "Matrix([\n",
              "[-2,  0,  0,  0],\n",
              "[ 0, -2,  0,  0],\n",
              "[ 0,  0, -2,  0],\n",
              "[ 0,  0,  0, -2]])"
            ],
            "text/latex": "$\\displaystyle \\left[\\begin{matrix}-2 & 0 & 0 & 0\\\\0 & -2 & 0 & 0\\\\0 & 0 & -2 & 0\\\\0 & 0 & 0 & -2\\end{matrix}\\right]$"
          },
          "metadata": {},
          "execution_count": 133
        }
      ]
    },
    {
      "cell_type": "code",
      "source": [
        "#G_2,G_2\n",
        "anticonmutacion(G_2,G_2)"
      ],
      "metadata": {
        "colab": {
          "base_uri": "https://localhost:8080/",
          "height": 98
        },
        "id": "BqTi5ju0VKLk",
        "outputId": "66d8d056-c892-4d4e-f3c6-692815ebf8c7"
      },
      "execution_count": null,
      "outputs": [
        {
          "output_type": "execute_result",
          "data": {
            "text/plain": [
              "Matrix([\n",
              "[-2.0,    0,    0,    0],\n",
              "[   0, -2.0,    0,    0],\n",
              "[   0,    0, -2.0,    0],\n",
              "[   0,    0,    0, -2.0]])"
            ],
            "text/latex": "$\\displaystyle \\left[\\begin{matrix}-2.0 & 0 & 0 & 0\\\\0 & -2.0 & 0 & 0\\\\0 & 0 & -2.0 & 0\\\\0 & 0 & 0 & -2.0\\end{matrix}\\right]$"
          },
          "metadata": {},
          "execution_count": 134
        }
      ]
    },
    {
      "cell_type": "code",
      "source": [
        "#G_3,G_3\n",
        "anticonmutacion(G_3,G_3)"
      ],
      "metadata": {
        "colab": {
          "base_uri": "https://localhost:8080/",
          "height": 98
        },
        "id": "yCWa4_mJVQ0w",
        "outputId": "4c0470a8-e2b8-4639-dcb0-caa93612f7b4"
      },
      "execution_count": null,
      "outputs": [
        {
          "output_type": "execute_result",
          "data": {
            "text/plain": [
              "Matrix([\n",
              "[-2,  0,  0,  0],\n",
              "[ 0, -2,  0,  0],\n",
              "[ 0,  0, -2,  0],\n",
              "[ 0,  0,  0, -2]])"
            ],
            "text/latex": "$\\displaystyle \\left[\\begin{matrix}-2 & 0 & 0 & 0\\\\0 & -2 & 0 & 0\\\\0 & 0 & -2 & 0\\\\0 & 0 & 0 & -2\\end{matrix}\\right]$"
          },
          "metadata": {},
          "execution_count": 135
        }
      ]
    },
    {
      "cell_type": "markdown",
      "source": [
        "Por lo que podemos decir que la matriz de anticomunaticon esta determinada a partir de las siguentes relaciones\n",
        "\n",
        "\n",
        "$$\\begin{bmatrix}\n",
        "(\\gamma^0,\\gamma^0) & (\\gamma^0,\\gamma^1) & (\\gamma^0,\\gamma^2) & (\\gamma^0,\\gamma^3) \\\\\n",
        "(\\gamma^1,\\gamma^0) & (\\gamma^1,\\gamma^1) & (\\gamma^1,\\gamma^2) & (\\gamma^1,\\gamma^3) \\\\\n",
        "(\\gamma^2,\\gamma^0) & (\\gamma^2,\\gamma^1) & (\\gamma^2,\\gamma^2) & (\\gamma^2,\\gamma^3) \\\\\n",
        "(\\gamma^3,\\gamma^0) & (\\gamma^3,\\gamma^1) & (\\gamma^3,\\gamma^2) & (\\gamma^3,\\gamma^3) \n",
        "\\end{bmatrix}\n",
        "\\rightarrow\n",
        "\\begin{bmatrix}\n",
        "1 & 0 & 0 & 0 \\\\\n",
        "0 & -1 & 0 & 0 \\\\\n",
        "0 & 0 & -1 & 0 \\\\\n",
        "0 & 0 & 0 & -1 \n",
        "\\end{bmatrix}$$"
      ],
      "metadata": {
        "id": "jy-xiTAxKqwJ"
      }
    },
    {
      "cell_type": "markdown",
      "source": [
        "#Minimos Cuadrados"
      ],
      "metadata": {
        "id": "w6HEPYwqLr3Z"
      }
    },
    {
      "cell_type": "code",
      "source": [
        "\n",
        "#1\n",
        "x=np.array([2,1,1])\n",
        "y=np.array([-1,2,1])\n",
        "b= np.array([2,1,4])\n",
        "\n",
        "X= np.linspace(-5,5,100)\n",
        "y1=[]\n",
        "y2=[]\n",
        "y3=[]\n",
        "for i in X:\n",
        "  y_1=2*i-2\n",
        "  y_2=(1-i)/2\n",
        "  y_3=4-i\n",
        "  y1.append(y_1)\n",
        "  y2.append(y_2)\n",
        "  y3.append(y_3)\n",
        "\n",
        "plt.plot(X,y1,label=\"2x-y=2\")\n",
        "plt.plot(X,y2,label=\"x+2y=1\")\n",
        "plt.plot(X,y3,label=\"x+y=4\")\n",
        "\n",
        "M=np.zeros((3,2))\n",
        "M[:,0]=x\n",
        "M[:,1]=y\n",
        "u= np.dot(M.T,M)\n",
        "d= np.dot(M.T,b)\n",
        "\n",
        "def Minimos_cuadrados(A, b, rcond=None):\n",
        "    # Descomposición en valores singulares reducidos\n",
        "    u, s, vh = np.linalg.svd(A, full_matrices=False)\n",
        "    M, N = A.shape\n",
        "    if rcond is None:\n",
        "        rcond = np.finfo(s.dtype).eps * max(M, N)\n",
        "    # Calculamos el rango de A\n",
        "    tol = np.amax(s) * rcond\n",
        "    rank = np.sum(s > tol)\n",
        "    # Calculamos la solución \n",
        "    x = np.zeros(N)\n",
        "    x[:rank] = np.linalg.solve(np.diag(s[:rank]) @ vh[:rank], u.T[:rank] @ b)\n",
        "    return x\n",
        "\n",
        "x= Minimos_cuadrados(M,b)\n",
        "plt.scatter(x[0],x[1],color=\"r\",label=\"Solución\")\n",
        "plt.legend()\n",
        "print(\"El punto comun a las 3 grafícas de escuenta en las coordenadas{}\".format(x[0],x[1]))\n",
        "x=np.array([x[0],x[1]])\n",
        "print(\"La distancia minima es: {}\".format(np.linalg.norm(np.dot(M,x)-b)))"
      ],
      "metadata": {
        "id": "mCJaP_11VgGK",
        "colab": {
          "base_uri": "https://localhost:8080/",
          "height": 470
        },
        "outputId": "c3def90a-c41f-4dcc-aca7-15e4f6a124a6"
      },
      "execution_count": null,
      "outputs": [
        {
          "output_type": "stream",
          "name": "stdout",
          "text": [
            "El punto comun a las 3 grafícas de escuenta en las coordenadas1.4285714285714286\n",
            "La distancia minima es: 2.5354627641855494\n"
          ]
        },
        {
          "output_type": "display_data",
          "data": {
            "text/plain": [
              "<Figure size 640x480 with 1 Axes>"
            ],
            "image/png": "[encoded data removed]"
          },
          "metadata": {}
        }
      ]
    },
    {
      "cell_type": "code",
      "source": [
        "#b\n",
        "X= np.arange(-5,5,0.01)\n",
        "Y= np.arange(-5,5,0.01)\n",
        "M\n",
        "D= np.zeros((len(X),len(Y)))\n",
        "for i in range(len(X)):\n",
        "  for j in range(len(Y)):\n",
        "    x= np.array([X[i],Y[j]])\n",
        "    distancia= np.linalg.norm(np.dot(M,x)-b)\n",
        "    D[i][j]=distancia\n",
        "\n",
        "X,Y= np.meshgrid(X,Y)\n",
        "\n",
        "fig = plt.figure()\n",
        "ax1= fig.add_subplot(111,projection=\"3d\")\n",
        "ax1.plot_surface(X,Y,D,cmap=\"coolwarm\")\n",
        "ax1.set_xlabel(\"x\")\n",
        "ax1.set_ylabel(\"y\")\n",
        "ax1.set_zlabel(\"Distancia\")\n",
        "\n",
        "print(\"La distancia minima del metodo es: {}\".format(np.min(D)))"
      ],
      "metadata": {
        "id": "TU7r1uHNixAy",
        "colab": {
          "base_uri": "https://localhost:8080/",
          "height": 426
        },
        "outputId": "f773f5b4-1f07-427d-8298-0afcabd9b5a2"
      },
      "execution_count": null,
      "outputs": [
        {
          "output_type": "stream",
          "name": "stdout",
          "text": [
            "La distancia minima del metodo es: 2.5354683985409867\n"
          ]
        },
        {
          "output_type": "display_data",
          "data": {
            "text/plain": [
              "<Figure size 640x480 with 1 Axes>"
            ],
            "image/png": "[encoded data removed]"
          },
          "metadata": {}
        }
      ]
    },
    {
      "cell_type": "markdown",
      "source": [
        "Está distancia es la misma que la resultante del metodo de minimos cuadrados"
      ],
      "metadata": {
        "id": "YWgKEcnNGSaW"
      }
    },
    {
      "cell_type": "code",
      "source": [
        "#6 "
      ],
      "metadata": {
        "id": "s4wp3zXXSVS3"
      },
      "execution_count": null,
      "outputs": []
    },
    {
      "cell_type": "code",
      "source": [
        "#7\n",
        "\n",
        "url = 'https://raw.githubusercontent.com/asegura4488/Database/main/MetodosComputacionalesReforma/Sigmoid.csv'\n",
        "data = pd.read_csv(url)\n",
        "\n",
        "x= data['x']\n",
        "y= data['y']\n",
        "\n",
        "plt.scatter(x,y)\n",
        "\n",
        "#a\n",
        "theta_0 = sym.symbols(\"theta_0\", real=True)\n",
        "theta_1 = sym.symbols(\"theta_1\", real=True)\n",
        "theta_2 = sym.symbols(\"theta_2\", real=True)\n",
        "x = sym.symbols(\"x\", real=True)\n",
        "\n",
        "def Modelo_Ajuste():\n",
        "  return theta_0/(theta_1+sym.exp(-theta_2*x))\n",
        "\n",
        "#b\n",
        "def x2(x,y,Theta):\n",
        "  suma=0\n",
        "  for i in range(len(x)):\n",
        "    value= (y[i]-Modelo_Ajuste(x,Theta))**2\n",
        "    suma+= value\n",
        "  return suma\n"
      ],
      "metadata": {
        "id": "ULyLL_bpVhe6",
        "colab": {
          "base_uri": "https://localhost:8080/",
          "height": 430
        },
        "outputId": "33638bfd-8430-4fa6-f606-64c3a67d3d17"
      },
      "execution_count": null,
      "outputs": [
        {
          "output_type": "display_data",
          "data": {
            "text/plain": [
              "<Figure size 640x480 with 1 Axes>"
            ],
            "image/png": "[encoded data removed]"
          },
          "metadata": {}
        }
      ]
    },
    {
      "cell_type": "markdown",
      "source": [
        "$c)$  Muestre las derivadas parciales de la métrica:\n",
        "\n",
        "$X^2(\\vec{\\theta})$ es la fución de costo, para hallar su derivada simplemente podemos hallar la derivada dentro de la expresion dada en la sumatoria,aplicando la regla de la cadena, y al resultado, volverle a agregar la suma \n",
        "\n",
        "Por ello:\n",
        "\n",
        "$$\n",
        "\\frac{\\partial X^2(\\vec{\\theta})}{\\partial \\theta_i}= \\sum_{i=1}^N (y_i-M(x_i,\\vec{\\theta}))^2\n",
        "$$\n",
        "\n",
        "$$\n",
        "\\frac{\\partial X^2(\\vec{\\theta})}{\\partial \\theta_i}=\\sum_{i=1}^N2 (y_i-M(x_i,\\vec{\\theta})) \\left( -\\frac{\\partial M(x_i,\\vec{\\theta})}{\\partial \\theta_i}\\right) =-2\\sum_{i=1}^N (y_i-M(x_i,\\vec{\\theta})) \\left( \\frac{\\partial M(x_i,\\vec{\\theta})}{\\partial \\theta_i}\\right)\n",
        "$$\n",
        "\n",
        "Demostrando la exresion dada en un comienzo.\n",
        "\n"
      ],
      "metadata": {
        "id": "jfHFGBwN-cJX"
      }
    },
    {
      "cell_type": "markdown",
      "source": [
        "$d)$ Partamos de que se puede escribir el paso del metodo del desenso de gradiente de la siguente manera:\n",
        "\n",
        "$$ x_1 = x_0 -\\alpha \\nabla_ x f(x_0) \\rightarrow x_{n+1} = x_n -\\alpha \\nabla_ x f(x_n)$$\n",
        "\n",
        "Donde $x_0$ es el punto de inicio del metodo y f la funcion a minimizar. \n",
        "\n",
        "Ahora bien, en nuestro caso $f=X^2(\\vec{\\theta})$ por lo que podemos expresar su gradiente de la siguente forma. \n",
        "\n",
        "$$\\nabla_{\\theta}X^2(\\vec{\\theta}) = \\left[ -2\\sum_{i=1}^N (y_i - M(x_i,\\vec{\\theta_0})) \\frac{\\partial M(x_i,\\vec{\\theta})}{\\partial \\theta_0}, -2\\sum_{i=1}^N (y_i - M(x_i,\\vec{\\theta_1})) \\frac{\\partial M(x_i,\\vec{\\theta})}{\\partial \\theta_1}, -2\\sum_{i=1}^N (y_i - M(x_i,\\vec{\\theta_2})) \\frac{\\partial M(x_i,\\vec{\\theta})}{\\partial \\theta_2} \\right] $$\n",
        "\n",
        "Exte expresion para el gradiente puede ser vista como \n",
        "\n",
        "$$-2*\\sum_{i=1}^N (y_i- M(x_i,\\vec{\\theta_j})\\nabla M(x_I,\\vec\\theta_j)$$\n",
        "\n",
        "Ahora tomemos el punto inicial como $\\theta_{i}$ y el paso de recorrio($\\alpha$) como $\\gamma$  por lo que reescirbirmos la expresion del metodo como \n",
        "\n",
        "$$ \\vec\\theta_{i+1} = \\vec\\theta_i -\\gamma \\cdot(-2*\\sum_{j=1}^N (y_i- M(j_i,\\vec{\\theta_i})\\nabla M(x_j,\\vec\\theta_i) $$\n",
        "\n",
        "Demostrando asi que vectorialmente, el proceso de minimos cuadrados esta definido por la ecuacion anterior. \n",
        "\n"
      ],
      "metadata": {
        "id": "IuKYRlVpDBsG"
      }
    },
    {
      "cell_type": "code",
      "source": [
        "#e\n",
        "def Gradiente_M():\n",
        "  M_d0 = sym.lambdify([x,theta_0,theta_1,theta_2], sym.diff(Modelo_Ajuste(), theta_0))\n",
        "  M_d1 = sym.lambdify([x,theta_0,theta_1,theta_2], sym.diff(Modelo_Ajuste(), theta_1))\n",
        "  M_d2 = sym.lambdify([x,theta_0,theta_1,theta_2], sym.diff(Modelo_Ajuste(), theta_2))\n",
        "  return M_d0,M_d1,M_d2\n"
      ],
      "metadata": {
        "id": "cO_TGf7d-bnD"
      },
      "execution_count": null,
      "outputs": []
    },
    {
      "cell_type": "code",
      "source": [
        "def Desenzo_Gradiente(M,x,y,theta,it,e,lr):\n",
        "\n",
        "  error = e + 1\n",
        "  iterationes = 0\n",
        "  d0, d1, d2 = Gradiente_M()\n",
        "\n",
        "  while error > e and iterationes < it:\n",
        "    suma = 0\n",
        "\n",
        "    for i in range(len(y)):\n",
        "      d_0 = d0(x[i],theta[0], theta[1], theta[2])\n",
        "      d_1 = d1(x[i],theta[0], theta[1], theta[2])\n",
        "      d_2 = d2(x[i],theta[0], theta[1], theta[2])\n",
        "\n",
        "      suma += (y[i]-M(x[i],theta[0],theta[1],theta[2]))*np.array([d_0,d_1,d_2])\n",
        "    \n",
        "    theta_ = theta - (lr * (-2*suma))\n",
        "    theta = theta_\n",
        "\n",
        "    error = np.linalg.norm(lr * (-2*suma))\n",
        "    iterationes += 1\n",
        "\n",
        "  return theta_"
      ],
      "metadata": {
        "id": "mRDOKmPWDFOC"
      },
      "execution_count": null,
      "outputs": []
    },
    {
      "cell_type": "code",
      "source": [
        "X=data['x']\n",
        "Y= data['y']\n",
        "lr=1e-3\n",
        "theta=[1,1,1]\n",
        "e=0.01\n",
        "it=1e4\n",
        "\n",
        "M_= sym.lambdify([x,theta_0,theta_1,theta_2],Modelo_Ajuste())\n",
        "new_theta=Desenzo_Gradiente(M_,X,Y,theta,it,e,lr)\n",
        "\n",
        "x_=np.linspace(np.min(X),np.max(X),100)\n",
        "y_=[]\n",
        "\n",
        "for i in x_:\n",
        "  u=new_theta[0] / (new_theta[1] + sym.exp(-new_theta[2]*i))\n",
        "  y_.append(u)\n",
        "\n",
        "plt.scatter(X,Y,label=\"Datos\",color=\"r\")\n",
        "plt.plot(x_,y_,label=\"Best fit\",color=\"b\")\n",
        "plt.title(\"Regresión logística\")\n",
        "plt.legend()"
      ],
      "metadata": {
        "colab": {
          "base_uri": "https://localhost:8080/",
          "height": 470
        },
        "id": "4v4dEMHTGT2R",
        "outputId": "b3b30ad0-03df-4cb5-e4d4-34ecaac6a768"
      },
      "execution_count": null,
      "outputs": [
        {
          "output_type": "execute_result",
          "data": {
            "text/plain": [
              "<matplotlib.legend.Legend at 0x7ffb89e9a8e0>"
            ]
          },
          "metadata": {},
          "execution_count": 36
        },
        {
          "output_type": "display_data",
          "data": {
            "text/plain": [
              "<Figure size 640x480 with 1 Axes>"
            ],
            "image/png": "[encoded data removed]"
          },
          "metadata": {}
        }
      ]
    }
  ]
}