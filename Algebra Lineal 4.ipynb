{
 "cells": [
  {
   "cell_type": "markdown",
   "id": "9226ed00",
   "metadata": {},
   "source": [
    "Para llegar a la expresión de la sustitución hacia adelante, voy a comenzar con el caso de un sistema triangular inferior de cuatro ecuaciones."
   ]
  },
  {
   "cell_type": "markdown",
   "id": "cea4be47",
   "metadata": {},
   "source": [
    "$$\\left.\n",
    "\\begin{array}{rcl}\n",
    "    \\lambda_{11}x_1 &  &  &  &  &  &  & = & b_1\n",
    "  \\\\ \\lambda_{21}x_1& + & \\lambda_{22}x_2 &  &  &  &  & = & b_2\n",
    "  \\\\ \\lambda_{31}x_1& + & \\lambda_{32}x_2 & + & \\lambda_{33}x_3 &  &  & = & b_3\n",
    "  \\\\ \\lambda_{41}x_1& + & \\lambda_{42}x_2 & + & \\lambda_{43}x_3 & + & \\lambda_{44}x_4 & = & b_4\n",
    "\\end{array}\n",
    "\\right\\}$$"
   ]
  },
  {
   "cell_type": "markdown",
   "id": "0a5105b6",
   "metadata": {},
   "source": [
    "En este tipo de matriz, el objetivo es despejar $x_1$ y de ahí en adelante, despejar las siguientes incógnitas en términos de la anterior:"
   ]
  },
  {
   "cell_type": "markdown",
   "id": "1c1d9d7d",
   "metadata": {},
   "source": [
    "Para la primera ecuación:\n",
    "$$x_1 =  \\frac{b_1}{\\lambda_{11}}$$\n",
    "\n",
    "Para la segunda ecuación:\n",
    "$$ \\lambda_{21}\\frac{b_1}{\\lambda_{11}} + \\lambda_{22}x_2 = b_2$$\n",
    "\n",
    "$$ \\lambda_{22}x_2 = b_2-\\lambda_{21}\\frac{b_1}{\\lambda_{11}}$$\n",
    "\n",
    "$$ x_2 = \\frac{b_2-\\lambda_{21}\\frac{b_1}{\\lambda_{11}}}{\\lambda_{22}}$$\n",
    "\n",
    "Para la tercera ecuación:\n",
    "$$\\lambda_{31}\\frac{b_1}{\\lambda_{11}} +  \\lambda_{32}\\frac{b_2-\\lambda_{21}\\frac{b_1}{\\lambda_{11}}}{\\lambda_{22}} +  \\lambda_{33}x_3 =  b_3$$\n",
    "\n",
    "$$\\lambda_{33}x_3 =  b_3 - \\lambda_{31}\\frac{b_1}{\\lambda_{11}} -  \\lambda_{32}\\frac{b_2-\\lambda_{21}\\frac{b_1}{\\lambda_{11}}}{\\lambda_{22}}$$\n",
    "\n",
    "$$x_3 = \\frac{ b_3 - \\lambda_{31}\\frac{b_1}{\\lambda_{11}} -  \\lambda_{32}\\frac{b_2-\\lambda_{21}\\frac{b_1}{\\lambda_{11}}}{\\lambda_{22}}}{\\lambda_{33}}$$\n",
    "\n",
    "Y para la cuarta ecuación:\n",
    "$$\\lambda_{41}\\frac{b_1}{\\lambda_{11}} +  \\lambda_{42}\\frac{b_2-\\lambda_{21}\\frac{b_1}{\\lambda_{11}}}{\\lambda_{22}}  +  \\lambda_{43}\\frac{ b_3 - \\lambda_{31}\\frac{b_1}{\\lambda_{11}} -  \\lambda_{32}\\frac{b_2-\\lambda_{21}\\frac{b_1}{\\lambda_{11}}}{\\lambda_{22}}}{\\lambda_{33}}  +  \\lambda_{44}x_4  = b_4$$\n",
    "\n",
    "$$\\lambda_{44}x_4  = b_4 - \\lambda_{41}\\frac{b_1}{\\lambda_{11}} -  \\lambda_{42}\\frac{b_2-\\lambda_{21}\\frac{b_1}{\\lambda_{11}}}{\\lambda_{22}}  -  \\lambda_{43}\\frac{ b_3 - \\lambda_{31}\\frac{b_1}{\\lambda_{11}} -  \\lambda_{32}\\frac{b_2-\\lambda_{21}\\frac{b_1}{\\lambda_{11}}}{\\lambda_{22}}}{\\lambda_{33}} $$\n",
    "\n",
    "$$x_4  = \\frac{b_4 - \\lambda_{41}\\frac{b_1}{\\lambda_{11}} -  \\lambda_{42}\\frac{b_2-\\lambda_{21}\\frac{b_1}{\\lambda_{11}}}{\\lambda_{22}}  -  \\lambda_{43}\\frac{ b_3 - \\lambda_{31}\\frac{b_1}{\\lambda_{11}} -  \\lambda_{32}\\frac{b_2-\\lambda_{21}\\frac{b_1}{\\lambda_{11}}}{\\lambda_{22}}}{\\lambda_{33}}}{\\lambda_{44}} $$"
   ]
  },
  {
   "cell_type": "markdown",
   "id": "de289a06",
   "metadata": {},
   "source": [
    "A partir de lo anterior, es posible notar un patrón y así escribir una expresión generalizada para $x_i$.\n",
    "\n",
    "Para $i = (1,2,3,...,n)$:\n",
    "$$x_i = \\frac{b_i-\\displaystyle\\sum_{j=1}^{i-1} \\lambda_{ij} x_j}{\\lambda_{ii}}$$\n",
    "\n",
    "Tomando el índice empezando desde el cero:\n",
    "\n",
    "Para $i = (0,1,2,...,n-1)$:\n",
    "$$x_i = \\frac{b_i-\\displaystyle\\sum_{j=0}^{i-1} \\lambda_{ij} x_j}{\\lambda_{ii}}$$\n",
    "\n",
    "Y definiendo la matriz $A$ como\n",
    "\n",
    "$$\\begin{equation}\n",
    "\\begin{pmatrix}\n",
    "\\lambda_{11} & 0 & 0 & 0\\\\\n",
    "\\lambda_{21} & \\lambda_{22} & 0 & 0\\\\\n",
    "\\lambda_{31} & \\lambda_{32} & \\lambda_{33} & 0\\\\\n",
    "\\lambda_{41} & \\lambda_{42} & \\lambda_{43} & \\lambda_{44}\n",
    "\\end{pmatrix}\n",
    "\\end{equation}$$\n",
    "\n",
    "La expresión se puede reescribir como:\n",
    "$$x_i = \\frac{b_i-\\displaystyle\\sum_{j=0}^{i-1} A_{ij} x_j}{A_{ii}}$$\n"
   ]
  }
 ],
 "metadata": {
  "kernelspec": {
   "display_name": "Python 3 (ipykernel)",
   "language": "python",
   "name": "python3"
  },
  "language_info": {
   "codemirror_mode": {
    "name": "ipython",
    "version": 3
   },
   "file_extension": ".py",
   "mimetype": "text/x-python",
   "name": "python",
   "nbconvert_exporter": "python",
   "pygments_lexer": "ipython3",
   "version": "3.9.12"
  }
 },
 "nbformat": 4,
 "nbformat_minor": 5
}
