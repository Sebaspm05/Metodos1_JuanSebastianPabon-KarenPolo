{
 "cells": [
  {
   "cell_type": "markdown",
   "id": "e0ce6390",
   "metadata": {},
   "source": [
    "Para encontrar una expresión para los parámetros $a_0$ y $a_1$, partimos de la definición de la función de costo para $n$ puntos y un modelo lineal: \n",
    "\n",
    "$$  \\chi^2(a_0,a_1) = \\sum_{i=1}^{n}(y_i-(a_0 + a_1 x_i))^2 \n",
    "$$"
   ]
  },
  {
   "cell_type": "markdown",
   "id": "89934764",
   "metadata": {},
   "source": [
    "Posteriormente, hallamos su gradiente:\n",
    "\n",
    "$$ \\nabla \\chi^2 = \\big(  \\frac{\\partial}{\\partial a_0}   \\sum_{i=1}^{n}(y_i-(a_0 + a_1 x_i))^2 , \\frac{\\partial}{\\partial a_1}   \\sum_{i=1}^{n}(y_i-(a_0 + a_1 x_i))^2 \\big)$$\n"
   ]
  },
  {
   "cell_type": "markdown",
   "id": "8f23e166",
   "metadata": {},
   "source": [
    "$$ \\nabla \\chi^2 = \\big( \\sum_{i=1}^{n}2(y_i-(a_0 + a_1 x_i))(-1) ,   \\sum_{i=1}^{n}2(y_i-(a_0 + a_1 x_i))(-x_i) \\big)$$"
   ]
  },
  {
   "cell_type": "markdown",
   "id": "c2b550ef",
   "metadata": {},
   "source": [
    "$$ \\nabla \\chi^2 = \\big( -2\\sum_{i=1}^{n}y_i-(a_0 + a_1 x_i) ,   -2\\sum_{i=1}^{n}(y_i-(a_0 + a_1 x_i))(x_i) \\big)$$"
   ]
  },
  {
   "cell_type": "markdown",
   "id": "f2d0dda7",
   "metadata": {},
   "source": [
    "$$ \\nabla \\chi^2 = \\big( -2\\sum_{i=1}^{n}y_i-a_0 - a_1 x_i ,   -2\\sum_{i=1}^{n}x_i y_i- x_i a_0 - a_1 x_i^2 \\big)$$"
   ]
  },
  {
   "cell_type": "markdown",
   "id": "a8174ac1",
   "metadata": {},
   "source": [
    "La función presenta puntos críticos cuando:\n",
    "\n",
    "$$ \\nabla \\chi^2 = \\big( -2\\sum_{i=1}^{n}y_i-a_0 - a_1 x_i ,   -2\\sum_{i=1}^{n}x_i y_i- x_i a_0 - a_1 x_i^2 \\big) = \\big( 0,0 \\big)$$"
   ]
  },
  {
   "cell_type": "markdown",
   "id": "071c5d8b",
   "metadata": {},
   "source": [
    "Lo cual supone el siguiente sistema de ecuaciones:\n",
    "\n",
    "$$\n",
    "\\left.\n",
    "-2\\sum_{i=1}^{n}y_i-a_0 - a_1 x_i  = 0 \\atop\n",
    "-2\\sum_{i=1}^{n}x_i y_i- x_i a_0 - a_1 x_i^2 = 0\n",
    "\\right\\}$$\n",
    "\n",
    "$$\n",
    "\\left.\n",
    "\\sum_{i=1}^{n}y_i-a_0 - a_1 x_i  = 0 \\atop\n",
    "\\sum_{i=1}^{n}x_i y_i- x_i a_0 - a_1 x_i^2 = 0\n",
    "\\right\\}$$\n",
    "\n",
    "Podemos \"repartir\" la sumatoria:\n",
    "\n",
    "$$\n",
    "\\left.\n",
    "\\sum_{i=1}^{n}y_i- \\sum_{i=1}^{n}a_0 - \\sum_{i=1}^{n}a_1 x_i  = 0 \\atop\n",
    "\\sum_{i=1}^{n}x_i y_i- \\sum_{i=1}^{n}x_i a_0 - \\sum_{i=1}^{n}a_1 x_i^2 = 0\n",
    "\\right\\}$$"
   ]
  },
  {
   "cell_type": "markdown",
   "id": "2d68b3ae",
   "metadata": {},
   "source": [
    "$$\n",
    "\\left.\n",
    "\\sum y- na_0 - a_1 \\sum x  = 0 \\atop\n",
    "\\sum x y- a_0\\sum x - a_1\\sum x^2  = 0\n",
    "\\right\\}$$"
   ]
  },
  {
   "cell_type": "markdown",
   "id": "f97703cb",
   "metadata": {},
   "source": [
    "Y procedemos a despejar $a_0$:\n",
    "\n",
    "$$\n",
    "\\left.\n",
    "- na_0  = -\\sum y + a_1 \\sum x \\atop\n",
    "\\sum x y- a_0\\sum x - a_1\\sum x^2  = 0\n",
    "\\right\\}$$"
   ]
  },
  {
   "cell_type": "markdown",
   "id": "cd9a1f0c",
   "metadata": {},
   "source": [
    "$$\n",
    "\\left.\n",
    "na_0  = \\sum y - a_1 \\sum x \\atop\n",
    "\\sum x y- a_0\\sum x - a_1\\sum x^2  = 0\n",
    "\\right\\}$$"
   ]
  },
  {
   "cell_type": "markdown",
   "id": "af6390f6",
   "metadata": {},
   "source": [
    "$$\n",
    "\\left.\n",
    "a_0  = \\frac{\\sum y - a_1 \\sum x}{n} \\atop\n",
    "\\sum x y- a_0\\sum x - a_1\\sum x^2  = 0\n",
    "\\right\\}$$"
   ]
  },
  {
   "cell_type": "markdown",
   "id": "f4cd7b2b",
   "metadata": {},
   "source": [
    "Y por la definición de promedio tenemos que:\n",
    "$$\n",
    "\\left.\n",
    "a_0  = \\bar{y} - a_1 \\bar{x} \\atop\n",
    "\\sum x y- a_0\\sum x - a_1\\sum x^2  = 0\n",
    "\\right\\}$$"
   ]
  },
  {
   "cell_type": "markdown",
   "id": "021f62c5",
   "metadata": {},
   "source": [
    "Y ahora comenzamos a despejar $a_1$. Comenzando por reemplazar el resultado de la primera ecuación en la segunda:\n",
    "\n",
    "\n",
    "$$\n",
    "\\left.\n",
    "a_0  = \\bar{y} - a_1 \\bar{x} \\atop\n",
    "\\sum x y-  \\frac{\\sum y - a_1 \\sum x}{n} \\sum x - a_1\\sum x^2  = 0\n",
    "\\right\\}$$"
   ]
  },
  {
   "cell_type": "markdown",
   "id": "074cee8b",
   "metadata": {},
   "source": [
    "$$\n",
    "\\left.\n",
    "a_0  = \\bar{y} - a_1 \\bar{x} \\atop\n",
    "\\sum x y-  \\frac{\\sum x\\sum y - a_1 \\sum x  \\sum x}{n} - a_1\\sum x^2  = 0\n",
    "\\right\\}$$"
   ]
  },
  {
   "cell_type": "markdown",
   "id": "2f4a1b36",
   "metadata": {},
   "source": [
    "$$\n",
    "\\left.\n",
    "a_0  = \\bar{y} - a_1 \\bar{x} \\atop\n",
    "\\sum x y-  \\frac{\\sum x\\sum y - a_1 (\\sum x)^2}{n} - a_1\\sum x^2  = 0\n",
    "\\right\\}$$"
   ]
  },
  {
   "cell_type": "markdown",
   "id": "7d1e97c0",
   "metadata": {},
   "source": [
    "$$\n",
    "\\left.\n",
    "a_0  = \\bar{y} - a_1 \\bar{x} \\atop\n",
    "n\\sum x y-  \\sum x\\sum y + a_1 (\\sum x)^2 - na_1\\sum x^2  = 0\n",
    "\\right\\}$$"
   ]
  },
  {
   "cell_type": "markdown",
   "id": "84f8b91c",
   "metadata": {},
   "source": [
    "$$\n",
    "\\left.\n",
    "a_0  = \\bar{y} - a_1 \\bar{x} \\atop\n",
    " a_1 (\\sum x)^2 - na_1\\sum x^2  = -n\\sum x y +  \\sum x\\sum y\n",
    "\\right\\}$$"
   ]
  },
  {
   "cell_type": "markdown",
   "id": "a860284c",
   "metadata": {},
   "source": [
    "$$\n",
    "\\left.\n",
    "a_0  = \\bar{y} - a_1 \\bar{x} \\atop\n",
    " a_1 \\big( (\\sum x)^2 - n\\sum x^2 \\big)   = -n\\sum x y +  \\sum x\\sum y\n",
    "\\right\\}$$"
   ]
  },
  {
   "cell_type": "markdown",
   "id": "2397fba7",
   "metadata": {},
   "source": [
    "$$\n",
    "\\left.\n",
    "a_0  = \\bar{y} - a_1 \\bar{x} \\atop\n",
    " a_1 = \\frac{-n\\sum x y +  \\sum x\\sum y}{ (\\sum x)^2 - n\\sum x^2    }\n",
    "\\right\\}$$"
   ]
  },
  {
   "cell_type": "markdown",
   "id": "ce1323a3",
   "metadata": {},
   "source": [
    "Dividimos por $-n$ arriba y abajo:\n",
    "\n",
    "$$\n",
    "\\left.\n",
    "a_0  = \\bar{y} - a_1 \\bar{x} \\atop\n",
    " a_1 = \\frac{\\sum x y -  \\frac{\\sum x\\sum y}{n}}{ -\\frac{(\\sum x)^2}{n} + \\sum x^2    }\n",
    "\\right\\}$$"
   ]
  },
  {
   "cell_type": "markdown",
   "id": "7da47916",
   "metadata": {},
   "source": [
    "Así que finalmente se tiene que:\n",
    "\n",
    "$$ a_0  = \\bar{y} - a_1 \\bar{x} $$\n",
    "\n",
    "$$ a_1 = \\frac{\\sum x y -  \\frac{\\sum x\\sum y}{n}}{\\sum x^2-\\frac{(\\sum x)^2}{n} }$$"
   ]
  },
  {
   "cell_type": "markdown",
   "id": "053f42b8",
   "metadata": {},
   "source": [
    "Para $n$ puntos y un modelo cuadrático, la función de costo es:\n",
    "\n",
    "$$ \\chi^2(a_0,a_1,a_2) = \\sum_{i=1}^{n}(y_i-(a_0 + a_1 x_i + a_2x_i^2))^2  $$"
   ]
  },
  {
   "cell_type": "markdown",
   "id": "a8c6c8b6",
   "metadata": {},
   "source": [
    "Así que podemos seguir un proceso análogo al anterior, comenzando por hallar su gradiente:\n",
    "\n",
    "$$ \\nabla \\chi^2(a_0,a_1,a_2) = \\big(  \\frac{\\partial}{\\partial a_0}    \\sum_{i=1}^{n}(y_i-(a_0 + a_1 x_i + a_2x_i^2))^2  , \\frac{\\partial}{\\partial a_1}   \\sum_{i=1}^{n}(y_i-(a_0 + a_1 x_i + a_2x_i^2))^2 , \\frac{\\partial}{\\partial a_2}    \\sum_{i=1}^{n}(y_i-(a_0 + a_1 x_i + a_2x_i^2))^2  \\big)$$"
   ]
  },
  {
   "cell_type": "markdown",
   "id": "8785e3e5",
   "metadata": {},
   "source": [
    "$$ \\nabla \\chi^2(a_0,a_1,a_2) = \\big(\\sum_{i=1}^{n}2(y_i-(a_0 + a_1 x_i + a_2x_i^2))(-1) , \\sum_{i=1}^{n}2(y_i-(a_0 + a_1 x_i + a_2x_i^2))(-x_i) , 2\\sum_{i=1}^{n}(y_i-(a_0 + a_1 x_i + a_2x_i^2))(-x_i^2)  \\big)$$"
   ]
  },
  {
   "cell_type": "markdown",
   "id": "f9c52f37",
   "metadata": {},
   "source": [
    "$$ \\nabla \\chi^2(a_0,a_1,a_2) = \\big(2\\sum_{i=1}^{n}(-y_i + a_0 + a_1 x_i + a_2x_i^2) , 2\\sum_{i=1}^{n}(-x_i y_i + a_0x_i + a_1 x_i^2 + a_2x_i^3) , 2\\sum_{i=1}^{n}(-x_i^2 y_i+a_0 x_i^2 + a_1 x_i^3 + a_2x_i^4)  \\big)$$"
   ]
  },
  {
   "cell_type": "markdown",
   "id": "d4e5e667",
   "metadata": {},
   "source": [
    "Lo que implica el siguiente sistema de ecuaciones para minimizar la función:\n",
    "\\begin{eqnarray}\n",
    "2\\sum_{i=1}^{n}(-y_i + a_0 + a_1 x_i + a_2x_i^2) = 0 \\\\\n",
    "2\\sum_{i=1}^{n}(-x_i y_i + a_0x_i + a_1 x_i^2 + a_2x_i^3) = 0 \\\\\n",
    " 2\\sum_{i=1}^{n}(-x_i^2 y_i+a_0 x_i^2 + a_1 x_i^3 + a_2x_i^4)=0\n",
    "\\end{eqnarray}\n",
    "\n",
    "\\begin{eqnarray}\n",
    "\\sum_{i=1}^{n}(-y_i + a_0 + a_1 x_i + a_2x_i^2) = 0 \\\\\n",
    "\\sum_{i=1}^{n}(-x_i y_i + a_0x_i + a_1 x_i^2 + a_2x_i^3) = 0 \\\\\n",
    "\\sum_{i=1}^{n}(-x_i^2 y_i+a_0 x_i^2 + a_1 x_i^3 + a_2x_i^4)=0\n",
    "\\end{eqnarray}\n",
    "\n",
    "\\begin{eqnarray}\n",
    "\\sum_{i=1}^{n}(-y_i + a_0 + a_1 x_i + a_2x_i^2 = 0 )\\\\\n",
    "\\sum_{i=1}^{n}(-x_i y_i + a_0x_i + a_1 x_i^2 + a_2x_i^3 = 0 )\\\\\n",
    "\\sum_{i=1}^{n}(-x_i^2 y_i+a_0 x_i^2 + a_1 x_i^3 + a_2x_i^4=0 )\n",
    "\\end{eqnarray}\n",
    "\n",
    "\\begin{eqnarray}\n",
    "\\sum_{i=1}^{n}(a_0 + a_1 x_i + a_2x_i^2 = y_i )\\\\\n",
    "\\sum_{i=1}^{n}( a_0x_i + a_1 x_i^2 + a_2x_i^3 = x_i y_i)\\\\\n",
    "\\sum_{i=1}^{n}(a_0 x_i^2 + a_1 x_i^3 + a_2x_i^4=x_i^2 y_i )\n",
    "\\end{eqnarray}"
   ]
  },
  {
   "cell_type": "markdown",
   "id": "cbfa4011",
   "metadata": {},
   "source": [
    "De esta forma es posible notar que las ecuaciones que forman el sistema a resolver para minimizar la función, siguen una regularidad. Al añadir un parámetro más al modelo, la correspondiente nueva ecuación es igual a la anterior multiplicada por $x_i$ a ambos lados. O lo que es igual, a aumentar un grado la ecuación con respecto a $x_i$."
   ]
  }
 ],
 "metadata": {
  "kernelspec": {
   "display_name": "Python 3 (ipykernel)",
   "language": "python",
   "name": "python3"
  },
  "language_info": {
   "codemirror_mode": {
    "name": "ipython",
    "version": 3
   },
   "file_extension": ".py",
   "mimetype": "text/x-python",
   "name": "python",
   "nbconvert_exporter": "python",
   "pygments_lexer": "ipython3",
   "version": "3.9.12"
  }
 },
 "nbformat": 4,
 "nbformat_minor": 5
}
