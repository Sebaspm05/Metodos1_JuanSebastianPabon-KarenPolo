{
 "cells": [
  {
   "cell_type": "code",
   "execution_count": 1,
   "id": "26e77ade",
   "metadata": {},
   "outputs": [],
   "source": [
    "import numpy as np"
   ]
  },
  {
   "cell_type": "code",
   "execution_count": 18,
   "id": "ae6ff954",
   "metadata": {},
   "outputs": [
    {
     "data": {
      "text/plain": [
       "array([[ 1,  0,  0],\n",
       "       [ 5,  1,  0],\n",
       "       [-2,  3,  1]])"
      ]
     },
     "execution_count": 18,
     "metadata": {},
     "output_type": "execute_result"
    }
   ],
   "source": [
    "A = np.array([[1,0,0],[5,1,0],[-2,3,1]])\n",
    "B = np.array([[4,-2,1],[0,3,7],[0,0,2]])\n",
    "A"
   ]
  },
  {
   "cell_type": "code",
   "execution_count": 19,
   "id": "e9e1be83",
   "metadata": {},
   "outputs": [
    {
     "data": {
      "text/plain": [
       "array([[ 4, -2,  1],\n",
       "       [ 0,  3,  7],\n",
       "       [ 0,  0,  2]])"
      ]
     },
     "execution_count": 19,
     "metadata": {},
     "output_type": "execute_result"
    }
   ],
   "source": [
    "B"
   ]
  },
  {
   "cell_type": "code",
   "execution_count": 20,
   "id": "1c9e43b3",
   "metadata": {},
   "outputs": [],
   "source": [
    "def multiplicacion(A,B):\n",
    "    n = A.shape[0]\n",
    "    m = B.shape[1]\n",
    "    C = np.zeros((n,m))\n",
    "    if n == m:\n",
    "        for i in range(n):\n",
    "            for j in range(m):\n",
    "                fila = A[i,:]\n",
    "                columna = B[:,j]\n",
    "                term = 0\n",
    "                for k in range(n):\n",
    "                    term += fila[k]*columna[k]\n",
    "                \n",
    "                C[i,j] = term\n",
    "        return C\n",
    "    else:\n",
    "        print(\"Las matrices ingresadas no son multiplicables\")"
   ]
  },
  {
   "cell_type": "code",
   "execution_count": 21,
   "id": "b1ead228",
   "metadata": {},
   "outputs": [
    {
     "data": {
      "text/plain": [
       "array([[ 4., -2.,  1.],\n",
       "       [20., -7., 12.],\n",
       "       [-8., 13., 21.]])"
      ]
     },
     "execution_count": 21,
     "metadata": {},
     "output_type": "execute_result"
    }
   ],
   "source": [
    "multiplicacion(A,B)"
   ]
  }
 ],
 "metadata": {
  "kernelspec": {
   "display_name": "Python 3 (ipykernel)",
   "language": "python",
   "name": "python3"
  },
  "language_info": {
   "codemirror_mode": {
    "name": "ipython",
    "version": 3
   },
   "file_extension": ".py",
   "mimetype": "text/x-python",
   "name": "python",
   "nbconvert_exporter": "python",
   "pygments_lexer": "ipython3",
   "version": "3.9.12"
  }
 },
 "nbformat": 4,
 "nbformat_minor": 5
}
