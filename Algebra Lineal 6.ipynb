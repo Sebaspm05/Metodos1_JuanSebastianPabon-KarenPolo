{
 "cells": [
  {
   "cell_type": "code",
   "execution_count": 1,
   "id": "5b546bf5",
   "metadata": {},
   "outputs": [],
   "source": [
    "import numpy as np"
   ]
  },
  {
   "cell_type": "code",
   "execution_count": 2,
   "id": "ec915b1c",
   "metadata": {},
   "outputs": [],
   "source": [
    "e1 = lambda x,y,z : 3*x -y -z #1\n",
    "e2 = lambda x,y,z : -x+3*y+z #3\n",
    "e3 = lambda x,y,z : 2*x+y+4*z #7"
   ]
  },
  {
   "cell_type": "code",
   "execution_count": 3,
   "id": "bb26875f",
   "metadata": {},
   "outputs": [
    {
     "data": {
      "text/plain": [
       "array([[ 3, -1, -1],\n",
       "       [-1,  3,  1],\n",
       "       [ 2,  1,  4]])"
      ]
     },
     "execution_count": 3,
     "metadata": {},
     "output_type": "execute_result"
    }
   ],
   "source": [
    "A = np.array([[3,-1,-1],[-1,3,1],[2,1,4]])\n",
    "b = np.array([[1],[3],[7]])\n",
    "A"
   ]
  },
  {
   "cell_type": "code",
   "execution_count": 4,
   "id": "eb84ea54",
   "metadata": {},
   "outputs": [
    {
     "data": {
      "text/plain": [
       "array([[1],\n",
       "       [3],\n",
       "       [7]])"
      ]
     },
     "execution_count": 4,
     "metadata": {},
     "output_type": "execute_result"
    }
   ],
   "source": [
    "b"
   ]
  },
  {
   "cell_type": "code",
   "execution_count": 5,
   "id": "8bc66732",
   "metadata": {},
   "outputs": [],
   "source": [
    "def sor(A,B,w,X,lim=1000):\n",
    "    \"\"\"\n",
    "    w debe estar entre 1 y 2 (excluyente)\n",
    "    \"\"\"\n",
    "    n,m = A.shape\n",
    "\n",
    "    k=0\n",
    "    encontrado = False\n",
    "    \n",
    "    while k < lim and encontrado == False:\n",
    "        X_k = np.zeros_like(X)\n",
    "        \n",
    "        for i in range(m):\n",
    "            sum1 = 0\n",
    "            sum2 = 0\n",
    "            \n",
    "            if 0 < i:\n",
    "                for j in range(i-1):\n",
    "                    sum1 += A[i,j]*X_k[j,0]\n",
    "                    \n",
    "            if i < n: \n",
    "                for j in range(i+1,n):\n",
    "                    sum2 += A[i,j]*X[j,0]                                \n",
    "                \n",
    "            X_k[i] = (1-w)*X[i] + (w/A[i,i])*(B[i,0] - sum1-sum2)\n",
    "            \n",
    "            X = X_k \n",
    "            \n",
    "        if (X[0]==1 and X[1]==1 and X[2]==1):\n",
    "            encontrado = True\n",
    "            \n",
    "        else:\n",
    "            k += 1\n",
    "            \n",
    "    return X,k\n",
    "            \n",
    "            "
   ]
  },
  {
   "cell_type": "code",
   "execution_count": 6,
   "id": "7b69cce5",
   "metadata": {},
   "outputs": [
    {
     "name": "stderr",
     "output_type": "stream",
     "text": [
      "C:\\Users\\USER\\AppData\\Local\\Temp\\ipykernel_11316\\52674995.py:19: RuntimeWarning: overflow encountered in long_scalars\n",
      "  sum1 += A[i,j]*X_k[j,0]\n"
     ]
    },
    {
     "data": {
      "text/plain": [
       "array([   1.,    1.,    1.,    1.,    1.,    1.,    1.,    1., 1000.,\n",
       "       1000., 1000., 1000., 1000., 1000., 1000., 1000., 1000.])"
      ]
     },
     "execution_count": 6,
     "metadata": {},
     "output_type": "execute_result"
    }
   ],
   "source": [
    "X_i = np.array([[0],[0],[0]]) \n",
    "W = np.linspace(1.01,1.99,17)\n",
    "IT = np.zeros_like(W)\n",
    "X=[]\n",
    "for i in range(W.size):\n",
    "    w = W[i]\n",
    "    _,IT[i] = sor(A,b,w,X_i)\n",
    "    X.append(sor(A,b,w,X_i))\n",
    "    \n",
    "IT"
   ]
  },
  {
   "cell_type": "code",
   "execution_count": 7,
   "id": "7c9b33b6",
   "metadata": {},
   "outputs": [
    {
     "data": {
      "text/plain": [
       "array([1.01   , 1.07125, 1.1325 , 1.19375, 1.255  , 1.31625, 1.3775 ,\n",
       "       1.43875, 1.5    , 1.56125, 1.6225 , 1.68375, 1.745  , 1.80625,\n",
       "       1.8675 , 1.92875, 1.99   ])"
      ]
     },
     "execution_count": 7,
     "metadata": {},
     "output_type": "execute_result"
    }
   ],
   "source": [
    "W"
   ]
  },
  {
   "cell_type": "code",
   "execution_count": 8,
   "id": "cfbfd386",
   "metadata": {},
   "outputs": [
    {
     "data": {
      "text/plain": [
       "[(array([[1],\n",
       "         [1],\n",
       "         [1]]),\n",
       "  1),\n",
       " (array([[1],\n",
       "         [1],\n",
       "         [1]]),\n",
       "  1),\n",
       " (array([[1],\n",
       "         [1],\n",
       "         [1]]),\n",
       "  1),\n",
       " (array([[1],\n",
       "         [1],\n",
       "         [1]]),\n",
       "  1),\n",
       " (array([[1],\n",
       "         [1],\n",
       "         [1]]),\n",
       "  1),\n",
       " (array([[1],\n",
       "         [1],\n",
       "         [1]]),\n",
       "  1),\n",
       " (array([[1],\n",
       "         [1],\n",
       "         [1]]),\n",
       "  1),\n",
       " (array([[1],\n",
       "         [1],\n",
       "         [1]]),\n",
       "  1),\n",
       " (array([[2],\n",
       "         [1],\n",
       "         [1]]),\n",
       "  1000),\n",
       " (array([[2],\n",
       "         [1],\n",
       "         [1]]),\n",
       "  1000),\n",
       " (array([[2],\n",
       "         [1],\n",
       "         [1]]),\n",
       "  1000),\n",
       " (array([[2],\n",
       "         [1],\n",
       "         [1]]),\n",
       "  1000),\n",
       " (array([[2],\n",
       "         [1],\n",
       "         [1]]),\n",
       "  1000),\n",
       " (array([[ 554297885],\n",
       "         [         1],\n",
       "         [-500600274]]),\n",
       "  1000),\n",
       " (array([[1319716479],\n",
       "         [         1],\n",
       "         [ 772927597]]),\n",
       "  1000),\n",
       " (array([[ 974732730],\n",
       "         [         1],\n",
       "         [-940007873]]),\n",
       "  1000),\n",
       " (array([[ 556447213],\n",
       "         [         1],\n",
       "         [-553664973]]),\n",
       "  1000)]"
      ]
     },
     "execution_count": 8,
     "metadata": {},
     "output_type": "execute_result"
    }
   ],
   "source": [
    "X"
   ]
  },
  {
   "cell_type": "markdown",
   "id": "cf302576",
   "metadata": {},
   "source": [
    "Para encontrar el valor de $\\omega$ que minimiza el número de iteraciones, probé el método SOR con 17 valores diferentes de $\\omega$ entre 1.01 y 1.99. Pude notar que la función convergió en una sola iteración para los valores que estaban entre 1.01 y 1.5. Adicionalmente verifiqué que, en efecto, los valores de $\\vec{x}$ para esos valores de $\\omega$ eran $(1,1,1)$. Así que procedí a probar el método con $\\omega = 1.001, \\omega = 1.0001, \\omega = 1.00001, ...$ y $\\omega = 1.499, \\omega = 1.4999, \\omega = 1.49999, ...$ "
   ]
  },
  {
   "cell_type": "code",
   "execution_count": 9,
   "id": "db190be2",
   "metadata": {},
   "outputs": [
    {
     "data": {
      "text/plain": [
       "(array([[1],\n",
       "        [1],\n",
       "        [1]]),\n",
       " 1)"
      ]
     },
     "execution_count": 9,
     "metadata": {},
     "output_type": "execute_result"
    }
   ],
   "source": [
    "sor(A,b,1.00001,X_i)"
   ]
  },
  {
   "cell_type": "code",
   "execution_count": 10,
   "id": "b1f06f90",
   "metadata": {},
   "outputs": [
    {
     "data": {
      "text/plain": [
       "(array([[1],\n",
       "        [1],\n",
       "        [1]]),\n",
       " 1)"
      ]
     },
     "execution_count": 10,
     "metadata": {},
     "output_type": "execute_result"
    }
   ],
   "source": [
    "sor(A,b,1.49999,X_i)"
   ]
  },
  {
   "cell_type": "markdown",
   "id": "63ca309b",
   "metadata": {},
   "source": [
    "De esta forma, confirmé que para valores donde $\\omega \\rightarrow 1$ y donde $\\omega \\rightarrow 1.5$, la función también converge con 1 iteración. Con base en lo anterior, concluí que los valores de $\\omega$ que minimizan el número de iteraciones son los que cumplen que $\\omega \\in (1,1.5)$."
   ]
  }
 ],
 "metadata": {
  "kernelspec": {
   "display_name": "Python 3 (ipykernel)",
   "language": "python",
   "name": "python3"
  },
  "language_info": {
   "codemirror_mode": {
    "name": "ipython",
    "version": 3
   },
   "file_extension": ".py",
   "mimetype": "text/x-python",
   "name": "python",
   "nbconvert_exporter": "python",
   "pygments_lexer": "ipython3",
   "version": "3.9.12"
  }
 },
 "nbformat": 4,
 "nbformat_minor": 5
}
