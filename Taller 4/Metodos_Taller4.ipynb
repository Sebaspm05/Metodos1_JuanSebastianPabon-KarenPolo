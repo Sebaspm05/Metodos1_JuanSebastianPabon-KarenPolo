{
  "nbformat": 4,
  "nbformat_minor": 0,
  "metadata": {
    "colab": {
      "provenance": []
    },
    "kernelspec": {
      "name": "python3",
      "display_name": "Python 3"
    },
    "language_info": {
      "name": "python"
    }
  },
  "cells": [
    {
      "cell_type": "markdown",
      "source": [
        "# Taller número cuatro, Metodos computacionales. \n",
        "Juan Sebastian Pabon Martínez - 202215602"
      ],
      "metadata": {
        "id": "wf0znu2UUXVm"
      }
    },
    {
      "cell_type": "code",
      "source": [],
      "metadata": {
        "id": "ESEtUzfzUW_o"
      },
      "execution_count": null,
      "outputs": []
    },
    {
      "cell_type": "code",
      "execution_count": null,
      "metadata": {
        "id": "nA7YS4D_ULS0"
      },
      "outputs": [],
      "source": [
        "import numpy as no \n",
        "import matplotlib.pyplot as plt\n",
        "import sympy as sym \n"
      ]
    },
    {
      "cell_type": "markdown",
      "source": [
        "#Metodos de conteo \n",
        "ejercicios : 20,22,23\n"
      ],
      "metadata": {
        "id": "CW1m83yJXJVD"
      }
    },
    {
      "cell_type": "markdown",
      "source": [
        "Para probar teoricamente la afirmación usamos la formula de combinatoria con repetición: \n",
        "\n",
        "$$\\binom{n+k-1}{k}=\\binom{12}{10}= 66$$\n",
        "\n",
        "\n",
        "Por otro lado, Para pobrar computancionalmente la afirmación simplemente es necesario hacer ciclos anidados que te permitan recorrer los valores de nuestreo(Teniendo en cuanta quese encuyen desde el 0 hasta el 10) y saber si la suba da 10 se guarda como un caso confirmado"
      ],
      "metadata": {
        "id": "_8xUkx1Fb1Hr"
      }
    },
    {
      "cell_type": "code",
      "source": [
        "#22\n",
        "\n",
        "contador = 0\n",
        "for i in range(11):\n",
        "    for j in range(11):\n",
        "        for k in range(11):\n",
        "            if i + j + k == 10:\n",
        "                contador += 1\n",
        "\n",
        "print(contador)"
      ],
      "metadata": {
        "colab": {
          "base_uri": "https://localhost:8080/"
        },
        "id": "i57bfjl3XP-F",
        "outputId": "5e124dec-aead-430a-d61f-1d22c21802d9"
      },
      "execution_count": null,
      "outputs": [
        {
          "output_type": "stream",
          "name": "stdout",
          "text": [
            "66\n"
          ]
        }
      ]
    },
    {
      "cell_type": "markdown",
      "source": [
        "#Generales probabilidad \n",
        "ejercicios: 4,9,12"
      ],
      "metadata": {
        "id": "LNUv_6SFXQSZ"
      }
    },
    {
      "cell_type": "code",
      "source": [],
      "metadata": {
        "id": "wOIQYb_mX1Pv"
      },
      "execution_count": null,
      "outputs": []
    },
    {
      "cell_type": "markdown",
      "source": [
        "#Distribuciones discretas de probabilidad.\n",
        "ejercicios : 3,4 "
      ],
      "metadata": {
        "id": "JYGbBkHMX1fx"
      }
    },
    {
      "cell_type": "code",
      "source": [],
      "metadata": {
        "id": "g_vcNcAqX8nj"
      },
      "execution_count": null,
      "outputs": []
    },
    {
      "cell_type": "markdown",
      "source": [
        "#Distribuciones continuas de probabilidad.\n",
        "ejercicios : 1,4"
      ],
      "metadata": {
        "id": "Gyq8LmD5X88c"
      }
    },
    {
      "cell_type": "code",
      "source": [],
      "metadata": {
        "id": "3VIDDXSpYCiL"
      },
      "execution_count": null,
      "outputs": []
    },
    {
      "cell_type": "markdown",
      "source": [
        "# Metropolis Hasting.\n",
        "ejercicios:1,3,4"
      ],
      "metadata": {
        "id": "niMBj0iQYC2N"
      }
    },
    {
      "cell_type": "code",
      "source": [],
      "metadata": {
        "id": "9mJEzld5YJW-"
      },
      "execution_count": null,
      "outputs": []
    },
    {
      "cell_type": "markdown",
      "source": [
        "#Parameter estimation.\n",
        "ejercicios: 3,5"
      ],
      "metadata": {
        "id": "aGsgP7lVYJ_h"
      }
    }
  ]
}