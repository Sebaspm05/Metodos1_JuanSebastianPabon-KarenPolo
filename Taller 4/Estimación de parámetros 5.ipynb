{
 "cells": [
  {
   "cell_type": "code",
   "execution_count": 1,
   "id": "45f9a49a",
   "metadata": {},
   "outputs": [],
   "source": [
    "import numpy as np\n",
    "import matplotlib.pyplot as plt"
   ]
  },
  {
   "cell_type": "code",
   "execution_count": 2,
   "id": "cadad00c",
   "metadata": {},
   "outputs": [
    {
     "data": {
      "image/png": "[encoded data removed]",
      "text/plain": [
       "<Figure size 432x288 with 1 Axes>"
      ]
     },
     "metadata": {
      "needs_background": "light"
     },
     "output_type": "display_data"
    }
   ],
   "source": [
    "variables = np.random.exponential(scale=1/2, size=20)\n",
    "\n",
    "plt.hist(variables, bins=5)\n",
    "\n",
    "plt.xlabel('Variables')\n",
    "plt.ylabel('Frecuencia')\n",
    "plt.show()"
   ]
  },
  {
   "cell_type": "code",
   "execution_count": 3,
   "id": "57289fea",
   "metadata": {},
   "outputs": [
    {
     "data": {
      "text/plain": [
       "0.06183002830605182"
      ]
     },
     "execution_count": 3,
     "metadata": {},
     "output_type": "execute_result"
    }
   ],
   "source": [
    " np.var(variables, ddof=0)"
   ]
  },
  {
   "cell_type": "code",
   "execution_count": 4,
   "id": "0c6b2d66",
   "metadata": {},
   "outputs": [],
   "source": [
    "variables1= np.random.exponential(scale=1/2, size=100)\n",
    "variables2=np.random.exponential(scale=1/2, size=1000)\n",
    "variables3=np.random.exponential(scale=1/2, size=10000)\n",
    "variables4=np.random.exponential(scale=1/2, size=100000)\n",
    "variables5=np.random.exponential(scale=1/2, size=1000000)\n",
    "variables6=np.random.exponential(scale=1/2, size=10000000)\n",
    "\n",
    "datos = [variables,variables1,variables2,variables3,variables4,variables5,variables6]"
   ]
  },
  {
   "cell_type": "code",
   "execution_count": 5,
   "id": "f2284b63",
   "metadata": {},
   "outputs": [],
   "source": [
    "varianzas = np.zeros(7)"
   ]
  },
  {
   "cell_type": "code",
   "execution_count": 6,
   "id": "5b603072",
   "metadata": {},
   "outputs": [
    {
     "data": {
      "text/plain": [
       "array([0.06183003, 0.22467218, 0.22605501, 0.24757033, 0.24875761,\n",
       "       0.24925738, 0.2497037 ])"
      ]
     },
     "execution_count": 6,
     "metadata": {},
     "output_type": "execute_result"
    }
   ],
   "source": [
    "for i in range(7):\n",
    "    varianzas[i] =  np.var(datos[i])\n",
    "varianzas"
   ]
  },
  {
   "cell_type": "code",
   "execution_count": 7,
   "id": "0aee5ce7",
   "metadata": {},
   "outputs": [],
   "source": [
    "Var = np.sum(varianzas)/len(varianzas)"
   ]
  },
  {
   "cell_type": "code",
   "execution_count": 8,
   "id": "860ee6ab",
   "metadata": {},
   "outputs": [
    {
     "data": {
      "text/plain": [
       "0.21540660505555717"
      ]
     },
     "execution_count": 8,
     "metadata": {},
     "output_type": "execute_result"
    }
   ],
   "source": [
    "Var"
   ]
  }
 ],
 "metadata": {
  "kernelspec": {
   "display_name": "Python 3 (ipykernel)",
   "language": "python",
   "name": "python3"
  },
  "language_info": {
   "codemirror_mode": {
    "name": "ipython",
    "version": 3
   },
   "file_extension": ".py",
   "mimetype": "text/x-python",
   "name": "python",
   "nbconvert_exporter": "python",
   "pygments_lexer": "ipython3",
   "version": "3.9.12"
  }
 },
 "nbformat": 4,
 "nbformat_minor": 5
}
