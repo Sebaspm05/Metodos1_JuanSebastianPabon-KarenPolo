{
 "cells": [
  {
   "cell_type": "markdown",
   "id": "80e42bb5",
   "metadata": {},
   "source": [
    "$$ \\mathbb{P}(D)=\\frac{3}{10} $$\n",
    "\n",
    "$$ \\mathbb{P}(D^c)=\\frac{7}{10} $$"
   ]
  },
  {
   "cell_type": "markdown",
   "id": "e1258327",
   "metadata": {},
   "source": [
    "Hay 3 posibles casos: \n",
    "-No sacar chips defectuosos.\n",
    "-Sacar 1 chip defectuoso.\n",
    "-Sacar 2 chips defectuosos.\n",
    "\n",
    "Para el primer caso, la probabilidad de obtener un microchip no defectuoso en el primer intento es $7/10$. Ya que hay 7 microchips no defectuosos de los 10.\n",
    "Obtener otro microchip no defectuoso en el segundo intento tiene una probabilidad de $6/9$, ya que quedan 6 microchips no defectuosos y 9 en total. \n",
    "De este modo, la probabilidad total es $(7/10)(6/9)=42/90$. Y al simplificarlo, obtenemos:\n",
    "$$\\mathbb{P}(X=0)=\\frac{7}{15}$$\n",
    "\n",
    "Para el segundo caso, la probabilidad de sacar un microchip defectuoso en el primer intento es de $3/10$. Y la probabilidad de sacar un microchip no defectuoso en el segundo intento es de $7/9$, ya que quedarían 9 chips en total, y los 7 microchips no defectuosos seguirían disponibles. \n",
    "\n",
    "Así mismo, la probabilidad de sacar un microchip no defectuoso en el primer intento es de $7/10$, y de sacar un microchip defectuoso en el segundo intento es de $3/9$. De este modo, la probabilidad del segundo caso es $(3/10)(7/9)+(7/10)(3/9)=(21/90)+(21/90)=(42/90)$. Y simplificándolo, obtenemos:\n",
    "\n",
    "$$\\mathbb{P}(X=1)=\\frac{7}{15}$$\n",
    "\n",
    "Y para el tercer caso, la probabilidad de obtener un microchip defectuoso en el primer intento es de $3/10$, y la de obtener uno defectuoso en el segundo intento sería de $2/9$. Así que la probabilidad de que ambos sean defectuosos es de $(3/10)(2/9)=6/90$. Lo que simplificado es:\n",
    "$$\\mathbb{P}(X=2)=\\frac{1}{15}$$"
   ]
  },
  {
   "cell_type": "markdown",
   "id": "10f7a220",
   "metadata": {},
   "source": [
    "Se puede hallar la probabilidad de hallar $x$ microchips defectuosos de la siguiente manera.\n",
    "\n",
    "Primero, hay que tener en cuenta el número de posibles resultados que hay de tomar 2 microchips de 10 en total, es decir, todas las combinaciones posibles $ C_2^{10} $. Estos conformaría todas las  posibles formas de sacar 2 microchips.\n",
    "\n",
    "Ahora bien, todas las posibles formas de sacar $x$ microchips defectuosos dependen de las posibles formas de sacar defectuosos y no defectuosos. Para cada caso, si se toman $x$ microchips defectuosos, las distintas formas de sacar dichos microchiops defectuosos están definidos por $C_x^3$. Ya que se tomarían $x$ microchips defectuosos de 3 posibles. Por otro lado, el número de de chips no defectuosos, vendría definido por el número de chips que no hayan sido defectuosos. Es decir, si no se toman defectuosos, los 2 chips serían funcionales. Si se toma 1 defectuoso, el otro chip sería funcional. Y si se toman 2 defectuosos, no se tomarían funcionales. Por lo tanto, el número de chips funcionales que se toman viene dado por $2-x$. Así que el número de posibles formas de tomar tal número de chips funcionales, está definido por $C_{2-x}^{7}$.\n",
    "\n",
    "Así, la función de distribución de probabilidad viene definida por:\n",
    "\n",
    "$$ f=(x)=\\frac{C_{2-x}^7 C_x^3}{C_2^{10}}  $$"
   ]
  },
  {
   "cell_type": "markdown",
   "id": "36d7c44c",
   "metadata": {},
   "source": [
    "$$ \\hat{\\mu}=\\mathbb{E}(X) = \\sum_x xf(x)$$"
   ]
  },
  {
   "cell_type": "markdown",
   "id": "e046f6ac",
   "metadata": {},
   "source": [
    "$$ \\hat{\\mu} = 0\\big( \\frac{7}{15} \\big)+1\\big( \\frac{7}{15} \\big)+2\\big( \\frac{1}{15} \\big)$$\n",
    "\n",
    "$$ \\hat{\\mu} = \\frac{7}{15} + \\frac{2}{15} = \\frac{9}{15}$$\n",
    "\n",
    "$$ \\hat{\\mu} = \\frac{3}{5}$$\n"
   ]
  }
 ],
 "metadata": {
  "kernelspec": {
   "display_name": "Python 3 (ipykernel)",
   "language": "python",
   "name": "python3"
  },
  "language_info": {
   "codemirror_mode": {
    "name": "ipython",
    "version": 3
   },
   "file_extension": ".py",
   "mimetype": "text/x-python",
   "name": "python",
   "nbconvert_exporter": "python",
   "pygments_lexer": "ipython3",
   "version": "3.9.12"
  }
 },
 "nbformat": 4,
 "nbformat_minor": 5
}
